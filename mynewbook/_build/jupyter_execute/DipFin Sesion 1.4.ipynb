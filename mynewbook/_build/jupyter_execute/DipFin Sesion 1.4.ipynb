{
 "cells": [
  {
   "cell_type": "markdown",
   "metadata": {
    "id": "srczvmXSXu82"
   },
   "source": [
    "# Introducción a la Adquisición de Datos"
   ]
  },
  {
   "cell_type": "markdown",
   "metadata": {
    "id": "rbzL_oyNYj4a"
   },
   "source": [
    "La adquisición de datos financieros es una piedra angular en el mundo de las finanzas modernas. Los analistas, traders y gestores de fondos dependen de datos precisos y oportunos para tomar decisiones informadas. Esta sección introduce los fundamentos de la adquisición de datos, los tipos de datos en finanzas y cómo acceder a ellos mediante programación en Python.\n",
    "\n",
    "## Fundamentos Teóricos\n",
    "\n",
    "**¿Por qué son cruciales los datos en las decisiones financieras?**\n",
    "Los datos son esenciales en finanzas por varias razones:\n",
    "- **Toma de decisiones basada en evidencia**: Los datos proporcionan una base objetiva para tomar decisiones de inversión, crédito y financiamiento.\n",
    "- **Análisis de riesgo**: Ayudan a identificar, medir y monitorizar riesgos financieros.\n",
    "- **Cumplimiento y reporte**: Son fundamentales para cumplir con regulaciones y preparar informes financieros.\n",
    "- **Desarrollo de modelos**: Son la base para el desarrollo de modelos financieros y algoritmos de trading.\n",
    "\n",
    "**Impacto de la calidad de los datos**:\n",
    "La calidad de los datos afecta directamente la precisión de los análisis financieros. Datos incorrectos o desactualizados pueden llevar a malas decisiones y pérdidas financieras. Por lo tanto, es crucial asegurar que los datos sean precisos, completos y actualizados.\n",
    "\n",
    "## Tipos de Datos Financieros\n",
    "\n",
    "Los datos financieros pueden clasificarse en varias categorías, incluyendo:\n",
    "- **Datos de mercado**: Incluyen precios de acciones, bonos, commodities, tipos de cambio, etc.\n",
    "- **Datos económicos**: Comprenden indicadores como el PIB, tasas de desempleo, inflación y otros datos macroeconómicos.\n",
    "- **Datos de transacciones**: Relacionados con el historial de transacciones de un activo o instrumento financiero.\n",
    "- **Datos fundamentales**: Involucran información sobre la salud financiera de las empresas, como balances, estados de resultados y flujos de efectivo.\n",
    "\n",
    "## Fuentes de Datos\n",
    "\n",
    "Las fuentes de datos financieros varían desde bases de datos internas de una empresa hasta fuentes externas públicas y comerciales:\n",
    "- **Yahoo Finance**: Ofrece datos de mercado amplios y gratuitos, accesibles mediante API.\n",
    "- **Bloomberg y Reuters**: Proporcionan datos exhaustivos y en tiempo real, utilizados ampliamente por profesionales financieros.\n",
    "- **APIs públicas**: Como Alpha Vantage o Quandl, que ofrecen diversas métricas financieras mediante interfaces de programación.\n",
    "- **Datos gubernamentales**: Provenientes de bancos centrales y oficinas de estadísticas, útiles para análisis económicos.\n",
    "\n",
    "## Ejemplo en Python\n",
    "\n",
    "A continuación, se muestra un ejemplo simple de cómo acceder a datos de mercado en tiempo real utilizando Python con la API de Yahoo Finance:\n",
    "\n",
    "```python\n",
    "pip install yfinance\n",
    "import yfinance as yf\n",
    "\n",
    "# Definir el ticker del activo y el período de consulta\n",
    "ticker = \"AAPL\"\n",
    "data = yf.Ticker(ticker)\n",
    "\n",
    "# Obtener datos históricos de precios\n",
    "historical_data = data.history(period=\"1mo\")\n",
    "\n",
    "# Mostrar los últimos 5 registros\n",
    "print(historical_data.tail())\n",
    "```\n",
    "\n",
    "Para ejecutar este ejemplo, necesitarás instalar el paquete `yfinance` usando `pip install yfinance`. Este script obtiene y muestra los datos históricos del precio de las acciones de Apple (AAPL) del último mes.\n",
    "\n"
   ]
  },
  {
   "cell_type": "code",
   "execution_count": 1,
   "metadata": {
    "colab": {
     "base_uri": "https://localhost:8080/"
    },
    "executionInfo": {
     "elapsed": 9407,
     "status": "ok",
     "timestamp": 1712960339575,
     "user": {
      "displayName": "LEONARDO HERNAN TALERO SARMIENTO",
      "userId": "18356281857447711093"
     },
     "user_tz": 300
    },
    "id": "L8xyICSRY2Fn",
    "outputId": "5bcd08f6-039e-4b7f-dcd1-4ff1519d23d7"
   },
   "outputs": [
    {
     "name": "stdout",
     "output_type": "stream",
     "text": [
      "Requirement already satisfied: yfinance in /usr/local/python/3.10.13/lib/python3.10/site-packages (0.2.40)\r\n",
      "Requirement already satisfied: pandas>=1.3.0 in /home/codespace/.local/lib/python3.10/site-packages (from yfinance) (2.2.2)\r\n",
      "Requirement already satisfied: numpy>=1.16.5 in /home/codespace/.local/lib/python3.10/site-packages (from yfinance) (1.26.4)\r\n",
      "Requirement already satisfied: requests>=2.31 in /home/codespace/.local/lib/python3.10/site-packages (from yfinance) (2.31.0)\r\n",
      "Requirement already satisfied: multitasking>=0.0.7 in /usr/local/python/3.10.13/lib/python3.10/site-packages (from yfinance) (0.0.11)\r\n",
      "Requirement already satisfied: lxml>=4.9.1 in /usr/local/python/3.10.13/lib/python3.10/site-packages (from yfinance) (5.2.2)\r\n",
      "Requirement already satisfied: platformdirs>=2.0.0 in /home/codespace/.local/lib/python3.10/site-packages (from yfinance) (4.2.1)\r\n",
      "Requirement already satisfied: pytz>=2022.5 in /home/codespace/.local/lib/python3.10/site-packages (from yfinance) (2024.1)\r\n",
      "Requirement already satisfied: frozendict>=2.3.4 in /usr/local/python/3.10.13/lib/python3.10/site-packages (from yfinance) (2.4.4)\r\n",
      "Requirement already satisfied: peewee>=3.16.2 in /usr/local/python/3.10.13/lib/python3.10/site-packages (from yfinance) (3.17.5)\r\n",
      "Requirement already satisfied: beautifulsoup4>=4.11.1 in /home/codespace/.local/lib/python3.10/site-packages (from yfinance) (4.12.3)\r\n",
      "Requirement already satisfied: html5lib>=1.1 in /usr/local/python/3.10.13/lib/python3.10/site-packages (from yfinance) (1.1)\r\n",
      "Requirement already satisfied: soupsieve>1.2 in /home/codespace/.local/lib/python3.10/site-packages (from beautifulsoup4>=4.11.1->yfinance) (2.5)\r\n",
      "Requirement already satisfied: six>=1.9 in /home/codespace/.local/lib/python3.10/site-packages (from html5lib>=1.1->yfinance) (1.16.0)\r\n",
      "Requirement already satisfied: webencodings in /home/codespace/.local/lib/python3.10/site-packages (from html5lib>=1.1->yfinance) (0.5.1)\r\n"
     ]
    },
    {
     "name": "stdout",
     "output_type": "stream",
     "text": [
      "Requirement already satisfied: python-dateutil>=2.8.2 in /home/codespace/.local/lib/python3.10/site-packages (from pandas>=1.3.0->yfinance) (2.9.0.post0)\r\n",
      "Requirement already satisfied: tzdata>=2022.7 in /home/codespace/.local/lib/python3.10/site-packages (from pandas>=1.3.0->yfinance) (2024.1)\r\n",
      "Requirement already satisfied: charset-normalizer<4,>=2 in /home/codespace/.local/lib/python3.10/site-packages (from requests>=2.31->yfinance) (3.3.2)\r\n",
      "Requirement already satisfied: idna<4,>=2.5 in /home/codespace/.local/lib/python3.10/site-packages (from requests>=2.31->yfinance) (3.7)\r\n",
      "Requirement already satisfied: urllib3<3,>=1.21.1 in /usr/local/python/3.10.13/lib/python3.10/site-packages (from requests>=2.31->yfinance) (2.0.7)\r\n",
      "Requirement already satisfied: certifi>=2017.4.17 in /home/codespace/.local/lib/python3.10/site-packages (from requests>=2.31->yfinance) (2024.2.2)\r\n"
     ]
    },
    {
     "name": "stdout",
     "output_type": "stream",
     "text": [
      "                                 Open        High         Low       Close  \\\n",
      "Date                                                                        \n",
      "2024-05-24 00:00:00-04:00  188.820007  190.580002  188.039993  189.979996   \n",
      "2024-05-28 00:00:00-04:00  191.509995  193.000000  189.100006  189.990005   \n",
      "2024-05-29 00:00:00-04:00  189.610001  192.250000  189.509995  190.289993   \n",
      "2024-05-30 00:00:00-04:00  190.759995  192.179993  190.630005  191.289993   \n",
      "2024-05-31 00:00:00-04:00  191.440002  192.570007  189.910004  192.250000   \n",
      "\n",
      "                             Volume  Dividends  Stock Splits  \n",
      "Date                                                          \n",
      "2024-05-24 00:00:00-04:00  36294600        0.0           0.0  \n",
      "2024-05-28 00:00:00-04:00  52280100        0.0           0.0  \n",
      "2024-05-29 00:00:00-04:00  53068000        0.0           0.0  \n",
      "2024-05-30 00:00:00-04:00  49947900        0.0           0.0  \n",
      "2024-05-31 00:00:00-04:00  74776921        0.0           0.0  \n"
     ]
    }
   ],
   "source": [
    "!pip install yfinance\n",
    "import yfinance as yf\n",
    "\n",
    "# Definir el ticker del activo y el período de consulta\n",
    "ticker = \"AAPL\"\n",
    "data = yf.Ticker(ticker)\n",
    "\n",
    "# Obtener datos históricos de precios\n",
    "historical_data = data.history(period=\"1mo\")\n",
    "\n",
    "# Mostrar los últimos 5 registros\n",
    "print(historical_data.tail())"
   ]
  },
  {
   "cell_type": "code",
   "execution_count": 2,
   "metadata": {
    "colab": {
     "base_uri": "https://localhost:8080/",
     "height": 237
    },
    "executionInfo": {
     "elapsed": 213,
     "status": "ok",
     "timestamp": 1712960488632,
     "user": {
      "displayName": "LEONARDO HERNAN TALERO SARMIENTO",
      "userId": "18356281857447711093"
     },
     "user_tz": 300
    },
    "id": "JeAEcw4SZKQa",
    "outputId": "3de89719-80f7-45fd-811c-6c9fff7040ac"
   },
   "outputs": [
    {
     "data": {
      "text/html": [
       "<div>\n",
       "<style scoped>\n",
       "    .dataframe tbody tr th:only-of-type {\n",
       "        vertical-align: middle;\n",
       "    }\n",
       "\n",
       "    .dataframe tbody tr th {\n",
       "        vertical-align: top;\n",
       "    }\n",
       "\n",
       "    .dataframe thead th {\n",
       "        text-align: right;\n",
       "    }\n",
       "</style>\n",
       "<table border=\"1\" class=\"dataframe\">\n",
       "  <thead>\n",
       "    <tr style=\"text-align: right;\">\n",
       "      <th></th>\n",
       "      <th>Open</th>\n",
       "      <th>High</th>\n",
       "      <th>Low</th>\n",
       "      <th>Close</th>\n",
       "      <th>Volume</th>\n",
       "      <th>Dividends</th>\n",
       "      <th>Stock Splits</th>\n",
       "    </tr>\n",
       "    <tr>\n",
       "      <th>Date</th>\n",
       "      <th></th>\n",
       "      <th></th>\n",
       "      <th></th>\n",
       "      <th></th>\n",
       "      <th></th>\n",
       "      <th></th>\n",
       "      <th></th>\n",
       "    </tr>\n",
       "  </thead>\n",
       "  <tbody>\n",
       "    <tr>\n",
       "      <th>2024-05-01 00:00:00-04:00</th>\n",
       "      <td>169.350298</td>\n",
       "      <td>172.476063</td>\n",
       "      <td>168.880934</td>\n",
       "      <td>169.070679</td>\n",
       "      <td>50383100</td>\n",
       "      <td>0.0</td>\n",
       "      <td>0.0</td>\n",
       "    </tr>\n",
       "    <tr>\n",
       "      <th>2024-05-02 00:00:00-04:00</th>\n",
       "      <td>172.276324</td>\n",
       "      <td>173.185095</td>\n",
       "      <td>170.658523</td>\n",
       "      <td>172.795624</td>\n",
       "      <td>94214900</td>\n",
       "      <td>0.0</td>\n",
       "      <td>0.0</td>\n",
       "    </tr>\n",
       "    <tr>\n",
       "      <th>2024-05-03 00:00:00-04:00</th>\n",
       "      <td>186.397167</td>\n",
       "      <td>186.746699</td>\n",
       "      <td>182.412581</td>\n",
       "      <td>183.131607</td>\n",
       "      <td>163224100</td>\n",
       "      <td>0.0</td>\n",
       "      <td>0.0</td>\n",
       "    </tr>\n",
       "    <tr>\n",
       "      <th>2024-05-06 00:00:00-04:00</th>\n",
       "      <td>182.103015</td>\n",
       "      <td>183.950500</td>\n",
       "      <td>180.175621</td>\n",
       "      <td>181.463882</td>\n",
       "      <td>78569700</td>\n",
       "      <td>0.0</td>\n",
       "      <td>0.0</td>\n",
       "    </tr>\n",
       "    <tr>\n",
       "      <th>2024-05-07 00:00:00-04:00</th>\n",
       "      <td>183.201504</td>\n",
       "      <td>184.649537</td>\n",
       "      <td>181.074400</td>\n",
       "      <td>182.152924</td>\n",
       "      <td>77305800</td>\n",
       "      <td>0.0</td>\n",
       "      <td>0.0</td>\n",
       "    </tr>\n",
       "  </tbody>\n",
       "</table>\n",
       "</div>"
      ],
      "text/plain": [
       "                                 Open        High         Low       Close  \\\n",
       "Date                                                                        \n",
       "2024-05-01 00:00:00-04:00  169.350298  172.476063  168.880934  169.070679   \n",
       "2024-05-02 00:00:00-04:00  172.276324  173.185095  170.658523  172.795624   \n",
       "2024-05-03 00:00:00-04:00  186.397167  186.746699  182.412581  183.131607   \n",
       "2024-05-06 00:00:00-04:00  182.103015  183.950500  180.175621  181.463882   \n",
       "2024-05-07 00:00:00-04:00  183.201504  184.649537  181.074400  182.152924   \n",
       "\n",
       "                              Volume  Dividends  Stock Splits  \n",
       "Date                                                           \n",
       "2024-05-01 00:00:00-04:00   50383100        0.0           0.0  \n",
       "2024-05-02 00:00:00-04:00   94214900        0.0           0.0  \n",
       "2024-05-03 00:00:00-04:00  163224100        0.0           0.0  \n",
       "2024-05-06 00:00:00-04:00   78569700        0.0           0.0  \n",
       "2024-05-07 00:00:00-04:00   77305800        0.0           0.0  "
      ]
     },
     "execution_count": 2,
     "metadata": {},
     "output_type": "execute_result"
    }
   ],
   "source": [
    "historical_data.head()"
   ]
  },
  {
   "cell_type": "markdown",
   "metadata": {
    "id": "NCM9UZGsXv-k"
   },
   "source": [
    "# Importación de Datos de APIs"
   ]
  },
  {
   "cell_type": "markdown",
   "metadata": {
    "id": "JL2KPk5KZtlh"
   },
   "source": [
    "## Importación de Datos de APIs\n",
    "\n",
    "En el ámbito financiero, la capacidad de acceder y manipular datos en tiempo real es esencial para el análisis de mercados, la toma de decisiones y la evaluación de riesgos. Las APIs, o Interfaces de Programación de Aplicaciones, son herramientas fundamentales para facilitar este acceso.\n",
    "\n",
    "### Teoría de APIs\n",
    "\n",
    "Una **API** (Interfaz de Programación de Aplicaciones) es un conjunto de reglas y especificaciones que las aplicaciones pueden seguir para comunicarse entre ellas. Las APIs permiten que su software extraiga información de un servicio o envíe información a un servicio de manera coherente y segura. En el contexto de datos financieros, las APIs suelen proporcionar formas programáticas de acceder a datos de mercado en tiempo real, datos históricos, indicadores económicos y más, todo sin necesidad de intervención manual o scraping web.\n",
    "\n",
    "#### Funcionamiento de las APIs en Finanzas:\n",
    "- **Autenticación**: Muchas APIs financieras requieren un proceso de autenticación, generalmente a través de una clave API, para controlar el acceso y monitorear el uso.\n",
    "- **Solicitudes y Respuestas**: Las APIs utilizan solicitudes HTTP para recibir comandos y enviar respuestas, empleando formatos estándar como JSON o XML para los datos.\n",
    "- **Límites de Tasa**: Para garantizar un uso justo y evitar sobrecargas, las APIs financieras a menudo limitan la cantidad de solicitudes que los usuarios pueden realizar en un período de tiempo.\n",
    "\n"
   ]
  },
  {
   "cell_type": "markdown",
   "metadata": {
    "id": "KnWOhI3HbB-k"
   },
   "source": [
    "Si buscas usar una API actualizada para obtener datos financieros, una excelente opción puede ser utilizar la API de Google Finance a través de Google Sheets, que permite acceder a información financiera actualizada. Sin embargo, para propósitos de programación y uso directo de una API en scripts Python, Google no proporciona una API financiera pública específica como Yahoo Finance o Alpha Vantage lo hacen.\n",
    "\n",
    "En lugar de eso, podemos utilizar Alpha Vantage, que es una popular API financiera que proporciona datos gratuitos de acciones, divisas (Forex), y criptomonedas a través de una interfaz API muy accesible. Proporcionaré un ejemplo de cómo usar Alpha Vantage para obtener datos históricos de acciones utilizando Python. Primero, necesitarás obtener una clave API gratuita registrándote en su sitio web.\n",
    "\n",
    "### Pasos para Utilizar Alpha Vantage en Python\n",
    "\n",
    "1. **Regístrate para obtener una clave API gratuita** en [Alpha Vantage](https://www.alphavantage.co/support/#api-key).\n",
    "2. **Instala la biblioteca `alpha_vantage`**:\n",
    "   ```bash\n",
    "   pip install alpha_vantage\n",
    "   ```\n",
    "3. **Ejemplo de Script para Obtener Datos de Acciones**:\n",
    "\n",
    "```python\n",
    "from alpha_vantage.timeseries import TimeSeries\n",
    "import matplotlib.pyplot as plt\n",
    "\n",
    "# Tu clave API de Alpha Vantage\n",
    "api_key = 'YOUR_API_KEY'\n",
    "\n",
    "# Inicializar TimeSeries con tu clave API\n",
    "ts = TimeSeries(key=api_key, output_format='pandas')\n",
    "\n",
    "# Obtener datos históricos de las acciones\n",
    "data, meta_data = ts.get_daily(symbol='AAPL', outputsize='compact')\n",
    "\n",
    "# Imprimir los datos\n",
    "print(data.head())\n",
    "\n",
    "# Opcional: visualizar los datos\n",
    "data['4. close'].plot()\n",
    "plt.title('Daily Closing Price for Apple (AAPL)')\n",
    "plt.show()\n",
    "```\n",
    "\n",
    "Este script hará una solicitud a Alpha Vantage para obtener los precios diarios de cierre de las acciones de Apple (AAPL) y los imprimirá. Además, incluye un ejemplo de cómo visualizar estos datos usando `matplotlib`.\n",
    "\n",
    "### Consideraciones\n",
    "\n",
    "- **Límites de API**: Alpha Vantage tiene límites en la cantidad de solicitudes que puedes hacer (5 solicitudes por minuto, 500 solicitudes por día en el plan gratuito).\n",
    "- **Latencia y Tiempo Real**: Aunque Alpha Vantage proporciona datos actualizados, puede haber una pequeña latencia en comparación con un sistema de trading en tiempo real. Para aplicaciones críticas de tiempo, considera sus opciones premium o servicios alternativos.\n",
    "\n",
    "Este enfoque te permitirá integrar datos financieros en tus aplicaciones Python, adecuado para análisis, aplicaciones educativas, o incluso para prototipos de estrategias de inversión."
   ]
  },
  {
   "cell_type": "markdown",
   "metadata": {
    "id": "BZHuJvVrbNx2"
   },
   "source": [
    "### Ejercicio Práctico\n",
    "\n",
    "**Objetivo**: Obtener datos históricos de precios de acciones usando una API.\n",
    "\n",
    "**Instrucciones**:\n",
    "1. **Selecciona una API financiera** que ofrezca datos históricos de acciones. Puedes elegir Yahoo Finance, Alpha Vantage, o cualquier otra que prefieras.\n",
    "2. **Regístrate para obtener una clave API** si es necesario.\n",
    "3. **Utiliza la biblioteca `requests`** para realizar una solicitud a la API y obtener datos de un año para una acción de tu elección.\n",
    "4. **Guarda los datos recibidos en un archivo CSV**."
   ]
  },
  {
   "cell_type": "markdown",
   "metadata": {
    "id": "Y6Hj0XNFXxGl"
   },
   "source": [
    "# Importación de Datos de Archivos CSV"
   ]
  },
  {
   "cell_type": "markdown",
   "metadata": {
    "id": "5VXmw2zNbnJM"
   },
   "source": [
    "La habilidad para manejar y analizar datos desde archivos CSV es una competencia esencial en el ámbito de las finanzas, donde frecuentemente se requiere procesar y analizar grandes volúmenes de datos tabulares. Python, junto con la biblioteca `pandas`, ofrece herramientas poderosas y flexibles para esta tarea.\n",
    "\n",
    "## Manejo de Archivos CSV en Python\n",
    "\n",
    "`pandas` es una biblioteca de Python que proporciona estructuras de datos de alto rendimiento y fácil uso, ideales para el manejo de datos tabulares. Para trabajar con archivos CSV, `pandas` ofrece la función `read_csv()`, que permite cargar datos de un archivo CSV directamente a un DataFrame, la estructura de datos central de `pandas`.\n",
    "\n",
    "#### Leer un archivo CSV\n",
    "```python\n",
    "import pandas as pd\n",
    "\n",
    "# Cargar datos desde un archivo CSV\n",
    "df = pd.read_csv('ruta/del/archivo.csv')\n",
    "\n",
    "# Mostrar las primeras cinco filas del DataFrame\n",
    "print(df.head())\n",
    "```\n",
    "## Ejemplo Práctico\n",
    "\n",
    "Supongamos que tienes un archivo CSV con datos de precios de divisas. El archivo contiene columnas para la fecha, el tipo de cambio y otros indicadores económicos asociados.\n",
    "\n",
    "#### Cómo importar y manipular estos datos:\n",
    "\n",
    "```python\n",
    "import pandas as pd\n",
    "\n",
    "# Cargar datos de divisas desde un archivo CSV\n",
    "df = pd.read_csv('precios_divisas.csv')\n",
    "\n",
    "# Ver las primeras filas del DataFrame para entender su estructura\n",
    "print(df.head())\n",
    "\n",
    "# Supongamos que queremos convertir la columna de fechas a un tipo datetime\n",
    "df['Fecha'] = pd.to_datetime(df['Fecha'])\n",
    "\n",
    "# Supongamos que queremos filtrar los datos para mostrar solo aquellos después de una fecha específica\n",
    "df_filtrado = df[df['Fecha'] > '2020-01-01']\n",
    "\n",
    "# Mostrar los resultados filtrados\n",
    "print(df_filtrado)\n",
    "```\n",
    "\n",
    "## Ejercicio Práctico\n",
    "\n",
    "**Objetivo**: Cargar datos de precios de bonos desde un archivo CSV y realizar un análisis básico.\n",
    "\n",
    "**Datos**: El archivo `precios_bonos.csv` contiene columnas para `Fecha`, `Precio de Cierre` y `Volumen`.\n",
    "\n",
    "**Tareas**:\n",
    "1. Carga el archivo CSV `precios_bonos.csv` en un DataFrame.\n",
    "2. Convierte la columna `Fecha` a tipo datetime.\n",
    "3. Calcula el precio promedio de cierre de los bonos.\n",
    "4. Encuentra el día con el volumen más alto de trading.\n",
    "5. Crea una nueva columna que calcule la variación diaria del precio de cierre y muestra los resultados.\n",
    "\n",
    "\n",
    "```python\n",
    "import pandas as pd\n",
    "\n",
    "# Cargar el archivo CSV\n",
    "bonos = pd.read_csv('precios_bonos.csv')\n",
    "\n",
    "# Convertir la columna 'Fecha'\n",
    "bonos['Fecha'] = pd.to_datetime(bonos['Fecha'])\n",
    "\n",
    "# Calcular el precio promedio de cierre\n",
    "precio_promedio = bonos['Precio de Cierre'].mean()\n",
    "print(\"Precio promedio de cierre:\", precio_promedio)\n",
    "\n",
    "# Encontrar el día con el mayor volumen\n",
    "max_volumen = bonos[bonos['Volumen'] == bonos['Volumen'].max()]\n",
    "print(\"Día con mayor volumen:\\n\", max_volumen)\n",
    "\n",
    "# Calcular la variación diaria del precio de cierre\n",
    "bonos['Variación Diaria'] = bonos['Precio de Cierre'].diff()\n",
    "print(\"Datos con la nueva columna de variación diaria:\\n\", bonos.head())\n",
    "```\n"
   ]
  },
  {
   "cell_type": "markdown",
   "metadata": {
    "id": "TgTErUl9XyJ_"
   },
   "source": [
    "# Selección de Variables Relevantes"
   ]
  },
  {
   "cell_type": "markdown",
   "metadata": {
    "id": "i_I4OnkRcf_P"
   },
   "source": [
    "En el análisis financiero, la selección de variables, también conocida como selección de características, es un paso crucial para desarrollar modelos predictivos eficientes y precisos. Este proceso no solo mejora la precisión de los modelos, sino que también reduce la complejidad computacional y mejora la interpretabilidad de los resultados.\n",
    "\n",
    "## Teoría sobre la Selección de Características\n",
    "\n",
    "La selección de características implica identificar las variables más relevantes para usar en modelos predictivos. Esto es especialmente importante en finanzas, donde modelos sobrecargados con datos irrelevantes pueden llevar a conclusiones erróneas y aumentar el riesgo de decisiones financieras subóptimas.\n",
    "\n",
    "### Importancia de la selección de características:\n",
    "- **Reducción de la dimensionalidad**: Menos datos implican menos complejidad computacional.\n",
    "- **Mejora del rendimiento del modelo**: Eliminar datos ruidosos o irrelevantes puede mejorar la precisión del modelo.\n",
    "- **Prevención del sobreajuste**: Menos variables reducen el riesgo de ajustar el modelo excesivamente a los datos de muestra.\n",
    "- **Costos reducidos**: Menos datos pueden significar menores costos de almacenamiento y procesamiento.\n",
    "\n",
    "### Métodos comunes de selección de características:\n",
    "- **Filtros**: Evalúan cada característica individualmente antes del proceso de modelado. Ejemplos incluyen correlación y pruebas chi-cuadrado.\n",
    "- **Métodos envolventes**: Evalúan múltiples subconjuntos de características, optimizando la selección para maximizar el rendimiento del modelo. Ejemplos son la eliminación recursiva de características.\n",
    "- **Métodos intrínsecos**: Realizan la selección de características como parte del proceso de modelado. Un ejemplo es la regularización L1, que puede anular algunos coeficientes de características.\n",
    "\n",
    "## Técnicas de Selección de Variables en Python\n",
    "\n",
    "`scikit-learn` ofrece varias herramientas para la selección de características. Vamos a explorar dos técnicas ampliamente utilizadas: Análisis de Componentes Principales (PCA) y la Importancia de Características en modelos basados en árboles.\n",
    "\n",
    "### Análisis de Componentes Principales (PCA):\n",
    "PCA es una técnica de reducción de dimensionalidad que transforma las variables originales en un nuevo conjunto de variables, que son combinaciones lineales de las originales y capturan la máxima varianza posible.\n",
    "\n",
    "```python\n",
    "from sklearn.decomposition import PCA\n",
    "from sklearn.preprocessing import StandardScaler\n",
    "\n",
    "# Estandarizar los datos\n",
    "scaler = StandardScaler()\n",
    "X_scaled = scaler.fit_transform(X)  # Suponiendo que X es tu dataset\n",
    "\n",
    "# Aplicar PCA\n",
    "pca = PCA(n_components=2)  # Reducir a dos componentes\n",
    "X_pca = pca.fit_transform(X_scaled)\n",
    "```\n",
    "\n",
    "### Importancia de características en modelos de árboles:\n",
    "Los modelos basados en árboles, como los árboles de decisión y las ensamblajes, pueden proporcionar la importancia de las características directamente como parte de su entrenamiento.\n",
    "\n",
    "```python\n",
    "from sklearn.ensemble import RandomForestClassifier\n",
    "\n",
    "# Suponiendo que X e y son tus datos y etiquetas\n",
    "model = RandomForestClassifier()\n",
    "model.fit(X, y)\n",
    "importances = model.feature_importances_\n",
    "```\n",
    "\n",
    "## Ejemplo y Ejercicio Práctico\n",
    "\n",
    "**Ejemplo práctico**:\n",
    "Supongamos que tenemos un conjunto de datos financieros con múltiples indicadores técnicos y queremos identificar cuáles son los más importantes para predecir el precio de cierre de las acciones.\n",
    "\n",
    "```python\n",
    "import pandas as pd\n",
    "from sklearn.feature_selection import SelectKBest, f_classif\n",
    "\n",
    "# Cargar datos\n",
    "data = pd.read_csv('datos_financieros.csv')\n",
    "X = data.drop('Precio_Cierre', axis=1)\n",
    "y = data['Precio_Cierre']\n",
    "\n",
    "# Seleccionar las 5 mejores características\n",
    "selector = SelectKBest(f_classif, k=5)\n",
    "X_new = selector.fit_transform(X, y)\n",
    "\n",
    "# Ver las características seleccionadas\n",
    "print(data.columns[selector.get_support(indices=True)])\n",
    "```\n",
    "\n",
    "### Ejercicio práctico\n",
    "Los estudiantes deberán utilizar un conjunto de datos de bonos con varias características económicas y aplicar tanto PCA como la Importancia de Características para determinar cuáles son los predictores más relevantes.\n",
    "\n",
    "- **Objetivo**: Analizar la importancia de diferentes variables económicas en la predicción de los precios de los bonos.\n",
    "- **Tarea**: Aplicar PCA y RandomForest para seleccion\n",
    "\n",
    "ar las características más relevantes.\n",
    "- **Entregable**: Un informe que detalle las características seleccionadas y su posible impacto en la predicción de precios.\n",
    "\n",
    "Este enfoque práctico asegura que los estudiantes no solo aprendan la teoría detrás de la selección de variables, sino que también adquieran habilidades prácticas aplicándolas en contextos financieros reales utilizando Python."
   ]
  },
  {
   "cell_type": "code",
   "execution_count": 3,
   "metadata": {
    "colab": {
     "base_uri": "https://localhost:8080/"
    },
    "executionInfo": {
     "elapsed": 238,
     "status": "ok",
     "timestamp": 1712961298751,
     "user": {
      "displayName": "LEONARDO HERNAN TALERO SARMIENTO",
      "userId": "18356281857447711093"
     },
     "user_tz": 300
    },
    "id": "8vLicadYcxg3",
    "outputId": "4d0d0d13-6e5a-459c-d3c5-5da0a1f56ef8"
   },
   "outputs": [
    {
     "name": "stdout",
     "output_type": "stream",
     "text": [
      "            Volumen  Promedio_Movil_10        RSI      MACD  Precio_Cierre  \\\n",
      "2021-01-01    25795         146.815215  46.961692  0.667456      76.660450   \n",
      "2021-01-02    10860         243.624645  65.681048 -0.595222     204.601647   \n",
      "2021-01-03    86820         349.059476  44.739220 -0.180249     293.725196   \n",
      "2021-01-04    64886         459.408685  49.859805  2.046771     396.725419   \n",
      "2021-01-05    16265         537.327620  51.016443 -0.369169     474.388223   \n",
      "\n",
      "               Ruido  \n",
      "2021-01-01  0.002808  \n",
      "2021-01-02  0.010423  \n",
      "2021-01-03 -0.118688  \n",
      "2021-01-04 -0.029841  \n",
      "2021-01-05 -0.033868  \n"
     ]
    }
   ],
   "source": [
    "import pandas as pd\n",
    "import numpy as np\n",
    "\n",
    "# Establecer una semilla para reproducibilidad\n",
    "np.random.seed(42)\n",
    "\n",
    "# Crear un DataFrame con 1000 entradas\n",
    "dates = pd.date_range(start=\"2021-01-01\", periods=1000, freq='D')\n",
    "data = pd.DataFrame(index=dates)\n",
    "\n",
    "# Simular diferentes características\n",
    "data['Volumen'] = np.random.randint(10000, 100000, size=(1000))\n",
    "data['Promedio_Movil_10'] = np.random.normal(100, 10, size=(1000)).cumsum() + 50\n",
    "data['RSI'] = np.random.normal(50, 10, size=(1000))  # Índice de fuerza relativa simulado\n",
    "data['MACD'] = np.random.normal(0, 2, size=(1000))  # Convergencia/divergencia de la media móvil\n",
    "data['Precio_Cierre'] = np.random.normal(100, 15, size=(1000)).cumsum()  # Precio de cierre\n",
    "\n",
    "# Introducir un poco de ruido\n",
    "data['Ruido'] = np.random.normal(0, 0.1, size=(1000))\n",
    "\n",
    "# Guardar el DataFrame como un archivo CSV\n",
    "data.to_csv('datos_financieros.csv')\n",
    "\n",
    "# Mostrar las primeras filas del DataFrame\n",
    "print(data.head())\n"
   ]
  },
  {
   "cell_type": "code",
   "execution_count": 4,
   "metadata": {
    "colab": {
     "base_uri": "https://localhost:8080/"
    },
    "executionInfo": {
     "elapsed": 185,
     "status": "ok",
     "timestamp": 1712961572108,
     "user": {
      "displayName": "LEONARDO HERNAN TALERO SARMIENTO",
      "userId": "18356281857447711093"
     },
     "user_tz": 300
    },
    "id": "WlW6RhS3c1Ub",
    "outputId": "8fe6b144-6d76-4103-f527-f981c533d13a"
   },
   "outputs": [
    {
     "name": "stdout",
     "output_type": "stream",
     "text": [
      "Index(['Volumen', 'Promedio_Movil_10', 'RSI', 'MACD', 'Precio_Cierre'], dtype='object')\n"
     ]
    },
    {
     "name": "stderr",
     "output_type": "stream",
     "text": [
      "/home/codespace/.local/lib/python3.10/site-packages/sklearn/feature_selection/_univariate_selection.py:109: RuntimeWarning: invalid value encountered in divide\n",
      "  msw = sswn / float(dfwn)\n"
     ]
    }
   ],
   "source": [
    "import pandas as pd\n",
    "from sklearn.feature_selection import SelectKBest, f_classif\n",
    "\n",
    "# Cargar datos\n",
    "data = pd.read_csv('datos_financieros.csv')\n",
    "data.index = data['Unnamed: 0']\n",
    "data.drop('Unnamed: 0',axis=1,inplace =True)\n",
    "X = data.drop('Precio_Cierre', axis=1)\n",
    "y = data['Precio_Cierre']\n",
    "\n",
    "# Seleccionar las 5 mejores características\n",
    "selector = SelectKBest(f_classif, k=5)\n",
    "X_new = selector.fit_transform(X, y)\n",
    "\n",
    "# Ver las características seleccionadas\n",
    "print(data.columns[selector.get_support(indices=True)])"
   ]
  },
  {
   "cell_type": "code",
   "execution_count": 5,
   "metadata": {
    "colab": {
     "base_uri": "https://localhost:8080/"
    },
    "executionInfo": {
     "elapsed": 244,
     "status": "ok",
     "timestamp": 1712961642741,
     "user": {
      "displayName": "LEONARDO HERNAN TALERO SARMIENTO",
      "userId": "18356281857447711093"
     },
     "user_tz": 300
    },
    "id": "VV-msf_TdOmO",
    "outputId": "d21edda4-add0-4164-cd04-3b7f0a2a4302"
   },
   "outputs": [
    {
     "data": {
      "text/plain": [
       "(1000, 5)"
      ]
     },
     "execution_count": 5,
     "metadata": {},
     "output_type": "execute_result"
    }
   ],
   "source": [
    "X_new.shape"
   ]
  }
 ],
 "metadata": {
  "colab": {
   "authorship_tag": "ABX9TyNKM9YFN/0Q1c6UMe2UJ359",
   "provenance": [
    {
     "file_id": "1nmlwJ5fSU8vOxXJAUiodVwg91bWEk0hj",
     "timestamp": 1712959672869
    },
    {
     "file_id": "1SZa3c_iroF8ge_r4mOiavLi4WPYjetAf",
     "timestamp": 1712951072578
    },
    {
     "file_id": "1hWqmAz0yXog6c-1DpulII38qk3Nrpepg",
     "timestamp": 1712349741951
    }
   ],
   "toc_visible": true
  },
  "kernelspec": {
   "display_name": "Python 3",
   "name": "python3"
  },
  "language_info": {
   "codemirror_mode": {
    "name": "ipython",
    "version": 3
   },
   "file_extension": ".py",
   "mimetype": "text/x-python",
   "name": "python",
   "nbconvert_exporter": "python",
   "pygments_lexer": "ipython3",
   "version": "3.10.13"
  }
 },
 "nbformat": 4,
 "nbformat_minor": 0
}