{
 "cells": [
  {
   "cell_type": "markdown",
   "metadata": {
    "id": "FM2Lj_OV7FDX"
   },
   "source": [
    "# Índice del Curso\n",
    "\n",
    "1. **Introducción a la Estadística en Python**\n",
    "- **Conceptos básicos de estadística:** Definición y aplicación en finanzas.\n",
    "- **Herramientas en Python para estadística:** Introducción a bibliotecas como NumPy, SciPy, y Pandas.\n",
    "- **Configuración del entorno de desarrollo:** Breve guía para instalar Python y las bibliotecas necesarias.\n",
    "\n",
    "2. **Medidas de Tendencia Central**\n",
    "- **Definición y fórmulas:** Media, mediana, y moda.\n",
    "- **Implementación en Python:**\n",
    "  - Uso de NumPy y Pandas para calcular la media y la mediana.\n",
    "  - Cálculo de la moda con SciPy o Pandas.\n",
    "- **Ejemplos prácticos:** Aplicación de estas medidas en conjuntos de datos financieros, como precios de acciones y rendimientos de inversiones.\n",
    "- **Ejercicios prácticos:** Calcula las medidas de tendencia central para un dataset proporcionado.\n",
    "\n",
    "3. **Medidas de Dispersión**\n",
    "- **Definición y fórmulas:** Varianza, desviación estándar, rango intercuartílico.\n",
    "- **Implementación en Python:**\n",
    "  - Uso de NumPy para calcular la varianza y desviación estándar.\n",
    "  - Uso de Pandas para explorar el rango intercuartílico y otros estadísticos.\n",
    "- **Ejemplos prácticos:** Analizar la volatilidad de los precios del mercado.\n",
    "- **Ejercicios prácticos:** Analizar la dispersión de los rendimientos de diferentes activos financieros.\n",
    "\n",
    "4. **Conceptos Básicos de Probabilidad**\n",
    "- **Teoría de probabilidad:** Definiciones de probabilidad y eventos, probabilidad condicional, y teoremas básicos.\n",
    "- **Simulaciones de probabilidad en Python:**\n",
    "  - Uso de la biblioteca `random` para generar datos y simular eventos.\n",
    "  - Ejemplos de simulación de lanzamientos de moneda o movimientos de precios de acciones.\n",
    "- **Ejemplos prácticos:** Cálculo de probabilidades en decisiones de inversión y riesgo financiero.\n",
    "- **Ejercicios prácticos:** Crear simulaciones para calcular probabilidades de eventos financieros.\n"
   ]
  },
  {
   "cell_type": "markdown",
   "metadata": {
    "id": "DYjm5vMz2-4T"
   },
   "source": [
    "# Introducción a la Estadística en Python"
   ]
  },
  {
   "cell_type": "markdown",
   "metadata": {
    "id": "ysdYE-jw39lb"
   },
   "source": [
    "La estadística es una disciplina que implica la recopilación, análisis, interpretación y presentación de datos. En el contexto financiero, la estadística es crucial para tomar decisiones informadas, realizar pronósticos económicos, gestionar riesgos y analizar el rendimiento de los mercados y activos financieros.\n",
    "\n",
    "## Momentos en Estadística\n",
    "\n",
    "En estadística, los **momentos** son medidas cuantitativas que capturan información sobre la forma de la distribución de una variable aleatoria. Los momentos más comunes incluyen:\n",
    "\n",
    "1. **Primer Momento (Media)**: El promedio de los valores.\n",
    "2. **Segundo Momento (Varianza)**: La media de los cuadrados de las diferencias entre cada valor y la media.\n",
    "3. **Tercer Momento (Asimetría)**: Mide la simetría de la distribución. Una distribución simétrica tiene una asimetría de cero.\n",
    "4. **Cuarto Momento (Curtosis)**: Mide la \"pesadez de las colas\" de la distribución. Una distribución normal tiene una curtosis de tres, y cualquier valor superior indica colas más pesadas y un pico más agudo.\n",
    "\n",
    "### Funciones Generadoras de Momentos\n",
    "\n",
    "La **función generadora de momentos (FGM)** de una variable aleatoria es una forma de encapsular todos los momentos teóricos de una distribución en una sola función. La FGM de una variable aleatoria $ X $ se define como:\n",
    "\n",
    "$$\n",
    "M_X(t) = E[e^{tX}]\n",
    "$$\n",
    "\n",
    "donde $ E $ denota la esperanza matemática. Los coeficientes de la serie de Taylor de la función generadora de momentos alrededor de $ t = 0 $ corresponden a los momentos de la distribución:\n",
    "\n",
    "$$\n",
    "M_X^{(n)}(0) = E[X^n]\n",
    "$$"
   ]
  },
  {
   "cell_type": "markdown",
   "metadata": {
    "id": "GvuyL6LJ4H-C"
   },
   "source": [
    "## Relevancia de la Estadística en el Análisis Financiero\n",
    "\n",
    "La estadística permite a los analistas financieros entender las tendencias, calcular probabilidades de eventos futuros, y tomar decisiones basadas en datos históricos y actuales. Las herramientas estadísticas ayudan a modelar la volatilidad de los mercados, valorar activos, y optimizar portafolios, entre otras aplicaciones.\n"
   ]
  },
  {
   "cell_type": "markdown",
   "metadata": {
    "id": "L_t5AJA04KUv"
   },
   "source": [
    "## Herramientas y Bibliotecas de Python Utilizadas en Estadística\n",
    "\n",
    "Python es uno de los lenguajes de programación más populares en el ámbito financiero debido a su simplicidad y poderosa suite de bibliotecas estadísticas y analíticas:\n",
    "\n",
    "- **NumPy**: Proporciona estructuras de datos y operaciones para manejar arrays y matrices numéricas. Es fundamental para realizar cálculos numéricos de alta velocidad.\n",
    "- **SciPy**: Basada en NumPy, esta biblioteca incluye módulos para optimización, álgebra lineal, integración y estadística.\n",
    "- **Pandas**: Esencial para la manipulación y el análisis de datos, ofrece estructuras de datos fáciles de usar y funciones de manipulación de series temporales ideales para datos financieros.\n",
    "\n",
    "Para poder usar las diferentes herramientas es neesario tener presente que en Python, el uso del punto (.) para realizar ciertas operaciones, como `np.array([])`, `np.mean`, y `pd.DataFrame`, se debe a la forma en que se organiza el lenguaje y su modelo de objetos. Este punto se utiliza para acceder a atributos y métodos de un objeto, lo que incluye funciones y propiedades de módulos y clases. Aquí te explico detalladamente por qué y cómo se utiliza este operador en estos contextos:\n",
    "\n",
    "### Acceso a Métodos y Atributos\n",
    "\n",
    "1. **Módulos y paquetes**: Python organiza código en módulos y paquetes, que son simplemente archivos y directorios de Python. Cuando importas un módulo o paquete, como NumPy o Pandas, puedes acceder a sus funciones, clases y atributos usando el operador punto. Por ejemplo:\n",
    "   - `import numpy as np` y luego `np.array([])` utiliza `np` como alias del módulo numpy, y `array` es una función dentro de ese módulo. El punto indica que `array` es un atributo del módulo `numpy`.\n",
    "   - Similarmente, `np.mean` accede al método `mean` que pertenece al módulo `numpy`.\n",
    "\n",
    "2. **Clases y objetos**: En la programación orientada a objetos, las clases definen objetos que encapsulan tanto datos (atributos) como funciones (métodos) que operan en esos datos. Cuando creas un objeto de una clase, utilizas el operador punto para invocar sus métodos o acceder a sus atributos.\n",
    "   - `pd.DataFrame` es un ejemplo donde `DataFrame` es una clase dentro del módulo `pandas` (alias `pd`). Al usar `pd.DataFrame`, estás creando una instancia nueva de la clase `DataFrame`.\n",
    "\n",
    "### Ventajas de la Notación de Punto\n",
    "\n",
    "- **Claridad y legibilidad**: La notación de punto ayuda a mantener el código organizado y claro. Sabes inmediatamente que `array` es una función asociada con `numpy` porque se accede a través de `np.array`.\n",
    "- **Organización del espacio de nombres**: Permite que múltiples módulos tengan funciones o atributos con el mismo nombre sin conflictos. Por ejemplo, dos módulos diferentes podrían tener una función `mean`, pero se diferencian por el nombre del módulo, como `np.mean` para NumPy y `pd.mean` para Pandas.\n",
    "- **Facilita la modularidad y el mantenimiento**: Agrupar funcionalidades relacionadas dentro de módulos y clases hace que el código sea más fácil de entender y mantener. Los desarrolladores pueden trabajar con componentes específicos sin afectar otros.\n",
    "\n"
   ]
  },
  {
   "cell_type": "markdown",
   "metadata": {
    "id": "2YP2D6Sz4MYR"
   },
   "source": [
    "## Configuración del Entorno de Desarrollo\n",
    "\n",
    "Para comenzar con la estadística en Python, es necesario configurar el entorno de desarrollo:\n",
    "\n",
    "1. **Instalación de Python**: Visite [python.org](https://python.org) para descargar e instalar Python. Asegúrese de marcar la opción \"Add Python to PATH\" durante la instalación.\n",
    "2. **Instalación de bibliotecas**: Utilice `pip`, el gestor de paquetes de Python, para instalar NumPy, SciPy y Pandas. Abra una terminal o consola de comandos y ejecute:\n",
    "```python\n",
    "pip install numpy scipy pandas\n",
    "```\n",
    "\n"
   ]
  },
  {
   "cell_type": "markdown",
   "metadata": {
    "id": "J6e15lJE4PSd"
   },
   "source": [
    "## Ejercicios Simples para Familiarizarse\n",
    "\n",
    "Para poner en práctica lo aprendido y verificar la instalación, realice los siguientes ejercicios:\n",
    "\n",
    "1. **Cálculo de una media simple con NumPy**:\n",
    "   ```python\n",
    "   import numpy as np\n",
    "   datos = np.array([10, 20, 30, 40, 50])\n",
    "   media = np.mean(datos)\n",
    "   print(\"La media es:\", media)\n",
    "   ```\n"
   ]
  },
  {
   "cell_type": "code",
   "execution_count": 1,
   "metadata": {
    "colab": {
     "base_uri": "https://localhost:8080/"
    },
    "executionInfo": {
     "elapsed": 8,
     "status": "ok",
     "timestamp": 1712951948836,
     "user": {
      "displayName": "LEONARDO HERNAN TALERO SARMIENTO",
      "userId": "18356281857447711093"
     },
     "user_tz": 300
    },
    "id": "viD8OVC25EHk",
    "outputId": "fc1eed5d-6003-4ec5-88e4-b73945bcf357"
   },
   "outputs": [
    {
     "name": "stdout",
     "output_type": "stream",
     "text": [
      "La media es: 30.0\n"
     ]
    }
   ],
   "source": [
    "import numpy as np\n",
    "datos = np.array([10, 20, 30, 40, 50])\n",
    "media = np.mean(datos)\n",
    "print(\"La media es:\", media)"
   ]
  },
  {
   "cell_type": "markdown",
   "metadata": {
    "id": "ySqCBbPa5AwQ"
   },
   "source": [
    "\n",
    "2. **Creación de un DataFrame con Pandas**:\n",
    "   ```python\n",
    "   import pandas as pd\n",
    "   datos = {'Precio': [95, 125, 109, 102, 112]}\n",
    "   df = pd.DataFrame(datos)\n",
    "   print(df)\n",
    "   ```\n"
   ]
  },
  {
   "cell_type": "code",
   "execution_count": 2,
   "metadata": {
    "colab": {
     "base_uri": "https://localhost:8080/"
    },
    "executionInfo": {
     "elapsed": 1214,
     "status": "ok",
     "timestamp": 1712951967381,
     "user": {
      "displayName": "LEONARDO HERNAN TALERO SARMIENTO",
      "userId": "18356281857447711093"
     },
     "user_tz": 300
    },
    "id": "GnepYtp-5LPK",
    "outputId": "1ad65d70-52b6-4b16-866c-3c150ebb872d"
   },
   "outputs": [
    {
     "name": "stdout",
     "output_type": "stream",
     "text": [
      "   Precio\n",
      "0      95\n",
      "1     125\n",
      "2     109\n",
      "3     102\n",
      "4     112\n"
     ]
    }
   ],
   "source": [
    "import pandas as pd\n",
    "datos = {'Precio': [95, 125, 109, 102, 112]}\n",
    "df = pd.DataFrame(datos)\n",
    "print(df)"
   ]
  },
  {
   "cell_type": "markdown",
   "metadata": {
    "id": "j1c0pDR75B4W"
   },
   "source": [
    "\n",
    "3. **Cálculo de estadísticas descriptivas con Pandas**:\n",
    "   ```python\n",
    "   print(df.describe())\n",
    "   ```\n"
   ]
  },
  {
   "cell_type": "code",
   "execution_count": 3,
   "metadata": {
    "colab": {
     "base_uri": "https://localhost:8080/"
    },
    "executionInfo": {
     "elapsed": 204,
     "status": "ok",
     "timestamp": 1712951979118,
     "user": {
      "displayName": "LEONARDO HERNAN TALERO SARMIENTO",
      "userId": "18356281857447711093"
     },
     "user_tz": 300
    },
    "id": "nwjB1qTO5OZe",
    "outputId": "5d57069d-0501-4e1d-f044-bbcc9a6b66db"
   },
   "outputs": [
    {
     "name": "stdout",
     "output_type": "stream",
     "text": [
      "          Precio\n",
      "count    5.00000\n",
      "mean   108.60000\n",
      "std     11.28273\n",
      "min     95.00000\n",
      "25%    102.00000\n",
      "50%    109.00000\n",
      "75%    112.00000\n",
      "max    125.00000\n"
     ]
    }
   ],
   "source": [
    "print(df.describe())"
   ]
  },
  {
   "cell_type": "markdown",
   "metadata": {
    "id": "YxyeOlZ03AAw"
   },
   "source": [
    "# Medidas de Tendencia Central"
   ]
  },
  {
   "cell_type": "markdown",
   "metadata": {
    "id": "IzvAWuNq5yaF"
   },
   "source": [
    "Las medidas de tendencia central son estadísticas descriptivas que resumen con un solo número el centro de un conjunto de datos. Las tres medidas más comunes son la media, la mediana y la moda. Estas medidas son fundamentales en el análisis financiero para entender las tendencias y comportamientos típicos en series de datos económicos y financieros.\n",
    "\n",
    "## Definiciones Teóricas\n",
    "\n",
    "1. **Media (Promedio)**: Es el valor promedio en un conjunto de datos, calculado sumando todos los números y dividiendo entre la cantidad de números.\n",
    "   $$\n",
    "   \\text{Media} = \\frac{\\sum_{i=1}^{n} x_i}{n}\n",
    "   $$\n",
    "   donde $ x_i $ son los valores observados y $ n $ es el número total de observaciones.\n",
    "\n",
    "2. **Mediana**: Es el valor que separa la mitad superior de la mitad inferior de un conjunto de datos. Si el número de observaciones es impar, la mediana es el valor medio. Si es par, es el promedio de los dos valores medios.\n",
    "   Para un conjunto ordenado de datos $ x_1, x_2, ..., x_n $:\n",
    "\n",
    "- Si $ n $ es impar:\n",
    "  $$\n",
    "  \\text{Mediana} = x_{\\left(\\frac{n+1}{2}\\right)}\n",
    "  $$\n",
    "\n",
    "- Si $ n $ es par:\n",
    "  $$\n",
    "  \\text{Mediana} = \\frac{x_{\\left(\\frac{n}{2}\\right)} + x_{\\left(\\frac{n}{2}+1\\right)}}{2}\n",
    "  $$\n",
    "\n",
    "3. **Moda**: Es el valor que aparece con mayor frecuencia en un conjunto de datos. Puede haber más de una moda si dos o más valores tienen la misma frecuencia máxima y esa es la mayor frecuencia del conjunto.\n",
    "\n",
    "# Medidas de Tendencia Central Calculables en Python para Finanzas\n",
    "\n",
    "Además de la media aritmética, existen otras medidas de tendencia central que pueden ser útiles en el análisis financiero, como la  la media ponderada y la media armónica. Cada una tiene su propio uso y relevancia dependiendo de la naturaleza de los datos y el contexto del análisis.\n",
    "\n",
    "### Media Ponderada\n",
    "4. **Media ponderada**: Es útil cuando algunos datos contribuyen más al conjunto total que otros. La media ponderada es especialmente útil en finanzas para calcular retornos ajustados al riesgo o para promediar precios de activos cuando diferentes cantidades de dinero se invierten en cada activo.\n",
    "\n",
    "\n",
    "$$\n",
    "\\text{Media Ponderada} = \\frac{\\sum_{i=1}^{n} (w_i \\times x_i)}{\\sum_{i=1}^{n} w_i}\n",
    "$$\n",
    "donde $ w_i $ son los pesos asignados a cada valor $ x_i $.\n",
    "\n",
    "\n",
    "\n",
    "4. **Media Armónica**: Es apropiada cuando se comparan tasas o ratios, siendo la inversa del promedio de los inversos. Por ejemplo, es útil para calcular el promedio de ratios financieros, como el precio-ganancia (P/E), especialmente cuando se quiere enfatizar los valores más bajos.\n",
    "\n",
    "$$\n",
    "\\text{Media Armónica} = \\frac{n}{\\sum_{i=1}^{n} \\left(\\frac{1}{x_i}\\right)}\n",
    "$$\n",
    "donde $ n $ es el número total de observaciones y $ x_i $ son los valores observados.\n",
    "\n"
   ]
  },
  {
   "cell_type": "markdown",
   "metadata": {
    "id": "ghndUCDY7J4Q"
   },
   "source": [
    "## Ejemplo en Python\n",
    "\n",
    "Vamos a calcular todas estas medias para un conjunto de datos de precios de acciones.\n",
    "\n",
    "```python\n",
    "import numpy as np\n",
    "import pandas as pd\n",
    "from scipy import stats\n",
    "\n",
    "precios = [150, 152, 150, 153, 152, 156, 157, 155, 154, 150, 148]\n",
    "\n",
    "# Media Aritmética\n",
    "media_aritmetica = np.mean(precios)\n",
    "\n",
    "# Mediana\n",
    "mediana = np.median(precios)\n",
    "\n",
    "# Moda\n",
    "moda = stats.mode(precios)[0]\n",
    "\n",
    "# Media Ponderada\n",
    "pesos = [10, 10, 10, 10, 10, 10, 10, 10, 10, 10, 5]  # Supongamos un peso adicional en la última observación\n",
    "media_ponderada = np.average(precios, weights=pesos)\n",
    "\n",
    "# Media Armónica\n",
    "media_armonica = stats.hmean(precios)\n",
    "\n",
    "print(\"Media Aritmética:\", media_aritmetica)\n",
    "print(\"Mediana:\", mediana)\n",
    "print(\"Moda:\", moda)\n",
    "print(\"Media Ponderada:\", media_ponderada)\n",
    "print(\"Media Armónica:\", media_armonica)\n",
    "```\n"
   ]
  },
  {
   "cell_type": "code",
   "execution_count": 4,
   "metadata": {
    "colab": {
     "base_uri": "https://localhost:8080/"
    },
    "executionInfo": {
     "elapsed": 235,
     "status": "ok",
     "timestamp": 1712952610639,
     "user": {
      "displayName": "LEONARDO HERNAN TALERO SARMIENTO",
      "userId": "18356281857447711093"
     },
     "user_tz": 300
    },
    "id": "vDeqdpKi7azp",
    "outputId": "ae8087d4-f6ce-4bc2-b6f8-a87af1470591"
   },
   "outputs": [
    {
     "name": "stdout",
     "output_type": "stream",
     "text": [
      "Media Aritmética: 152.45454545454547\n",
      "Mediana: 152.0\n",
      "Moda: 150\n",
      "Media Ponderada: 152.66666666666666\n",
      "Media Armónica: 152.40649488695274\n"
     ]
    }
   ],
   "source": [
    "import numpy as np\n",
    "import pandas as pd\n",
    "from scipy import stats\n",
    "\n",
    "precios = [150, 152, 150, 153, 152, 156, 157, 155, 154, 150, 148]\n",
    "\n",
    "# Media Aritmética\n",
    "media_aritmetica = np.mean(precios)\n",
    "\n",
    "# Mediana\n",
    "mediana = np.median(precios)\n",
    "\n",
    "# Moda\n",
    "moda = stats.mode(precios)[0]\n",
    "\n",
    "# Media Ponderada\n",
    "pesos = [10, 10, 10, 10, 10, 10, 10, 10, 10, 10, 5]  # Supongamos un peso adicional en la última observación\n",
    "media_ponderada = np.average(precios, weights=pesos)\n",
    "\n",
    "# Media Armónica\n",
    "media_armonica = stats.hmean(precios)\n",
    "\n",
    "print(\"Media Aritmética:\", media_aritmetica)\n",
    "print(\"Mediana:\", mediana)\n",
    "print(\"Moda:\", moda)\n",
    "print(\"Media Ponderada:\", media_ponderada)\n",
    "print(\"Media Armónica:\", media_armonica)"
   ]
  },
  {
   "cell_type": "markdown",
   "metadata": {
    "id": "A3xWbpMr6Han"
   },
   "source": [
    "## Ejemplos Prácticos\n",
    "\n",
    "### Uso de NumPy y Pandas\n",
    "\n",
    "Supongamos que tenemos una serie de precios de cierre diarios de una acción particular. Podemos utilizar NumPy y Pandas para calcular las medidas de tendencia central de estos datos.\n",
    "\n",
    "#### Setup Inicial\n",
    "\n",
    "```python\n",
    "import numpy as np\n",
    "import pandas as pd\n",
    "\n",
    "# Simulando precios de cierre diarios de una acción\n",
    "precios = [150, 152, 150, 153, 152, 156, 157, 155, 154, 150]\n",
    "```\n",
    "\n",
    "#### Cálculo de Media, Mediana y Moda\n",
    "\n",
    "```python\n",
    "# Convierte la lista en un array de NumPy para facilitar los cálculos\n",
    "precios_array = np.array(precios)\n",
    "\n",
    "# Calculando la media\n",
    "media = np.mean(precios_array)\n",
    "print(\"Media:\", media)\n",
    "\n",
    "# Calculando la mediana\n",
    "mediana = np.median(precios_array)\n",
    "print(\"Mediana:\", mediana)\n",
    "\n",
    "# Usando Pandas para facilitar el cálculo de la moda\n",
    "precios_series = pd.Series(precios)\n",
    "moda = precios_series.mode()\n",
    "print(\"Moda:\", moda.values)\n",
    "```\n",
    "\n",
    "### Interpretación\n",
    "- **Media**: Indica el valor promedio de los precios de la acción, útil para entender la tendencia central.\n",
    "- **Mediana**: Al ser menos sensible a valores atípicos extremos, puede dar una mejor idea del valor típico cuando la distribución es sesgada.\n",
    "- **Moda**: Útil para identificar el precio que más frecuentemente ha alcanzado la acción.\n",
    "\n",
    "## Ejercicios Prácticos\n",
    "\n",
    "**Conjunto de Datos Proporcionado**:\n",
    "Supongamos que tienes el siguiente conjunto de precios de cierre semanal para otra acción: [148, 147, 150, 153, 149, 152, 150, 157, 150].\n",
    "\n",
    "1. **Calcula la media, mediana y moda de estos precios.**\n",
    "2. **Analiza los resultados**:\n",
    "   - ¿Qué medida de tendencia central parece ser más representativa del comportamiento típico del precio de la acción?\n",
    "   - Considerando la volatilidad y el rendimiento de la acción, ¿cómo interpretarías estas medidas?\n",
    "\n",
    "```python\n",
    "# Respuestas a los ejercicios\n",
    "precios_semanales = [148, 147, 150, 153, 149, 152, 150, 157, 150]\n",
    "\n",
    "# Usando NumPy y Pandas para cálculos\n",
    "precios_semanales_array = np.array(precios_semanales)\n",
    "media_semanal = np.mean(precios_semanales_array)\n",
    "mediana_semanal = np.median(precios_semanales_array)\n",
    "moda_semanal = pd.Series(precios_semanales).mode()\n",
    "\n",
    "print(\"Media Semanal:\", media_semanal)\n",
    "print(\"Mediana Semanal:\", mediana_semanal)\n",
    "print(\"Moda Semanal:\", moda_semanal.values)\n",
    "```\n",
    "\n"
   ]
  },
  {
   "cell_type": "code",
   "execution_count": 5,
   "metadata": {
    "colab": {
     "base_uri": "https://localhost:8080/"
    },
    "executionInfo": {
     "elapsed": 222,
     "status": "ok",
     "timestamp": 1712952706738,
     "user": {
      "displayName": "LEONARDO HERNAN TALERO SARMIENTO",
      "userId": "18356281857447711093"
     },
     "user_tz": 300
    },
    "id": "gPinkeEd6Gxj",
    "outputId": "30067585-8995-4e8c-a76c-85289034ae0e"
   },
   "outputs": [
    {
     "name": "stdout",
     "output_type": "stream",
     "text": [
      "Media Semanal: 150.66666666666666\n",
      "Mediana Semanal: 150.0\n",
      "Moda Semanal: [150]\n"
     ]
    }
   ],
   "source": [
    "precios_semanales = [148, 147, 150, 153, 149, 152, 150, 157, 150]\n",
    "\n",
    "# Usando NumPy y Pandas para cálculos\n",
    "precios_semanales_array = np.array(precios_semanales)\n",
    "media_semanal = np.mean(precios_semanales_array)\n",
    "mediana_semanal = np.median(precios_semanales_array)\n",
    "moda_semanal = pd.Series(precios_semanales).mode()\n",
    "\n",
    "print(\"Media Semanal:\", media_semanal)\n",
    "print(\"Mediana Semanal:\", mediana_semanal)\n",
    "print(\"Moda Semanal:\", moda_semanal.values)"
   ]
  },
  {
   "cell_type": "markdown",
   "metadata": {
    "id": "rrY-fyf68Ub8"
   },
   "source": [
    "En conjunto, estas estadísticas sugieren que el precio de cierre de la acción se mantuvo relativamente estable alrededor de \\$150.00 durante las nueve semanas.\n",
    "- La **media** y la **mediana** son cercanas, lo que indica que la distribución de los precios de cierre no está sesgada significativamente hacia arriba o hacia abajo.\n",
    "- La **moda** coincide con la **mediana**, lo que refuerza la idea de que el precio de \\$150.00 fue el más común.\n",
    "\n",
    "Es importante tener en cuenta que la falta de información sobre la dispersión de la serie limita la interpretación de estas estadísticas. Sin conocer la desviación estándar o el rango, no podemos:\n",
    "\n",
    "- Evaluar la variabilidad del precio de cierre de la acción a lo largo de las nueve semanas.\n",
    "- Identificar posibles valores atípicos (outliers) que podrían afectar la representatividad de la media y la mediana.\n",
    "- Hacer inferencias más precisas sobre la distribución de los precios de cierre."
   ]
  },
  {
   "cell_type": "markdown",
   "metadata": {
    "id": "jZ2ZDGU42__a"
   },
   "source": [
    "# Medidas de Dispersión"
   ]
  },
  {
   "cell_type": "markdown",
   "metadata": {
    "id": "q936yGWB9NQJ"
   },
   "source": [
    "Las medidas de dispersión son estadísticas que describen cuánto se dispersan los datos alrededor de una medida central (como la media). En finanzas, estas medidas son cruciales para evaluar la volatilidad y el riesgo asociados con diferentes activos financieros.\n",
    "\n",
    "1. **Varianza**: La varianza mide la dispersión de los datos alrededor de su media. Cuanto mayor es la varianza, más dispersos están los datos.\n",
    "\n",
    "$$\n",
    "\\text{Varianza} = \\sigma^2 = \\frac{\\sum_{i=1}^{n} (x_i - \\mu)^2}{n}\n",
    "$$\n",
    "donde $ x_i $ son los valores de los datos, $ \\mu $ es la media de los datos, y $ n $ es el número total de observaciones.\n",
    "\n",
    "2. **Desviación Estándar**: La desviación estándar es la raíz cuadrada de la varianza y proporciona una medida de dispersión en las mismas unidades que los datos.\n",
    "\n",
    "$$\n",
    "\\text{Desviación Estándar} = \\sigma = \\sqrt{\\sigma^2}\n",
    "$$\n",
    "\n",
    "3. **Rango Intercuartílico (IQR)**: El rango intercuartílico es la diferencia entre el tercer cuartil (Q3) y el primer cuartil (Q1) y mide la dispersión de la mitad central de los datos.\n",
    "\n",
    "\n",
    "$$\n",
    "\\text{IQR} = Q3 - Q1\n",
    "$$\n",
    "\n",
    "4. **Suma de Cuadrados**: La suma total de los cuadrados de las diferencias entre cada valor y la media. Es fundamental en el cálculo de la varianza y en métodos de regresión.\n",
    "\n",
    "$$\n",
    "SS = \\sum_{i=1}^{n} (x_i - \\mu)^2\n",
    "$$\n",
    "\n",
    "5. **Rango**: La diferencia entre el máximo y el mínimo valor en un conjunto de datos. Proporciona una medida rápida de la dispersión sin considerar la forma de la distribución.\n",
    "\n",
    "$$\n",
    "Rango = x_{\\text{máx}} - x_{\\text{mín}}\n",
    "$$\n",
    "\n",
    "6. **Desviación Media Absoluta (MAD)**: El promedio de las distancias absolutas entre cada valor y la media. Es menos sensible a valores extremos en comparación con la desviación estándar.\n",
    "\n",
    "$$\n",
    "MAD = \\frac{1}{n} \\sum_{i=1}^{n} |x_i - \\mu|\n",
    "$$\n",
    "\n",
    "7. **Semi-Desviación (o Desviación a la baja)**: Similar a la desviación estándar, pero solo considera los valores que caen bajo la media del conjunto de datos. Útil para evaluar el riesgo en finanzas porque se enfoca en las \"pérdidas\" potenciales.\n",
    "\n",
    "$$\n",
    "Semi\\text{-}Desviación = \\sqrt{\\frac{1}{n} \\sum_{x_i < \\mu} (x_i - \\mu)^2}\n",
    "$$\n",
    "\n",
    "## Cálculo Utilizando NumPy y Pandas\n",
    "\n",
    "### Setup Inicial\n",
    "\n",
    "```python\n",
    "import numpy as np\n",
    "import pandas as pd\n",
    "\n",
    "# Datos de ejemplo: precios de cierre de acciones\n",
    "precios = [150, 152, 150, 153, 152, 156, 157, 155, 154, 150, 148]\n",
    "```\n"
   ]
  },
  {
   "cell_type": "markdown",
   "metadata": {
    "id": "lkGg2yWZITud"
   },
   "source": [
    "\n",
    "### Varianza y Desviación Estándar\n",
    "\n",
    "```python\n",
    "# Usando NumPy\n",
    "varianza = np.var(precios)\n",
    "desviacion_std = np.std(precios)\n",
    "\n",
    "print(\"Varianza:\", varianza)\n",
    "print(\"Desviación Estándar:\", desviacion_std)\n",
    "\n",
    "# Usando Pandas\n",
    "precios_series = pd.Series(precios)\n",
    "varianza_pd = precios_series.var(ddof=0)  # ddof=0 para poblacional\n",
    "desviacion_std_pd = precios_series.std(ddof=0)\n",
    "\n",
    "print(\"Varianza (Pandas):\", varianza_pd)\n",
    "print(\"Desviación Estándar (Pandas):\", desviacion_std_pd)\n",
    "```\n",
    "\n"
   ]
  },
  {
   "cell_type": "code",
   "execution_count": 6,
   "metadata": {
    "colab": {
     "base_uri": "https://localhost:8080/"
    },
    "executionInfo": {
     "elapsed": 274,
     "status": "ok",
     "timestamp": 1712955965127,
     "user": {
      "displayName": "LEONARDO HERNAN TALERO SARMIENTO",
      "userId": "18356281857447711093"
     },
     "user_tz": 300
    },
    "id": "KRVWfGPvIbj3",
    "outputId": "5e125287-18d5-44f0-d72b-2928b54492b5"
   },
   "outputs": [
    {
     "name": "stdout",
     "output_type": "stream",
     "text": [
      "Varianza: 7.338842975206612\n",
      "Desviación Estándar: 2.709029895591153\n"
     ]
    }
   ],
   "source": [
    "varianza = np.var(precios)\n",
    "desviacion_std = np.std(precios)\n",
    "\n",
    "print(\"Varianza:\", varianza)\n",
    "print(\"Desviación Estándar:\", desviacion_std)"
   ]
  },
  {
   "cell_type": "code",
   "execution_count": 7,
   "metadata": {
    "colab": {
     "base_uri": "https://localhost:8080/"
    },
    "executionInfo": {
     "elapsed": 5,
     "status": "ok",
     "timestamp": 1712955993306,
     "user": {
      "displayName": "LEONARDO HERNAN TALERO SARMIENTO",
      "userId": "18356281857447711093"
     },
     "user_tz": 300
    },
    "id": "1QCOwYe5IfXY",
    "outputId": "09952f92-daa6-4a3a-d14b-2f661ca0dd66"
   },
   "outputs": [
    {
     "name": "stdout",
     "output_type": "stream",
     "text": [
      "Varianza (Pandas): 7.338842975206612\n",
      "Desviación Estándar (Pandas): 2.709029895591153\n"
     ]
    }
   ],
   "source": [
    "precios_series = pd.Series(precios)\n",
    "varianza_pd = precios_series.var(ddof=0)  # ddof=0 para poblacional\n",
    "desviacion_std_pd = precios_series.std(ddof=0)\n",
    "\n",
    "print(\"Varianza (Pandas):\", varianza_pd)\n",
    "print(\"Desviación Estándar (Pandas):\", desviacion_std_pd)"
   ]
  },
  {
   "cell_type": "markdown",
   "metadata": {
    "id": "yG932LkuIZbE"
   },
   "source": [
    "### Rango Intercuartílico (IQR)\n",
    "\n",
    "```python\n",
    "# Usando Pandas\n",
    "Q1 = precios_series.quantile(0.25)\n",
    "Q3 = precios_series.quantile(0.75)\n",
    "IQR = Q3 - Q1\n",
    "\n",
    "print(\"Rango Intercuartílico:\", IQR)\n",
    "```\n",
    "\n"
   ]
  },
  {
   "cell_type": "code",
   "execution_count": 8,
   "metadata": {
    "colab": {
     "base_uri": "https://localhost:8080/"
    },
    "executionInfo": {
     "elapsed": 242,
     "status": "ok",
     "timestamp": 1712956006527,
     "user": {
      "displayName": "LEONARDO HERNAN TALERO SARMIENTO",
      "userId": "18356281857447711093"
     },
     "user_tz": 300
    },
    "id": "g8GA75ibIlmX",
    "outputId": "124898de-9f70-4595-b346-b6183a4dc591"
   },
   "outputs": [
    {
     "name": "stdout",
     "output_type": "stream",
     "text": [
      "Rango Intercuartílico: 4.5\n"
     ]
    }
   ],
   "source": [
    "# Usando Pandas\n",
    "Q1 = precios_series.quantile(0.25)\n",
    "Q3 = precios_series.quantile(0.75)\n",
    "IQR = Q3 - Q1\n",
    "\n",
    "print(\"Rango Intercuartílico:\", IQR)"
   ]
  },
  {
   "cell_type": "markdown",
   "metadata": {
    "id": "7aNhuPR1IO2m"
   },
   "source": [
    "## Ejercicios Prácticos\n",
    "\n",
    "**Conjunto de Datos Proporcionado**: Supongamos que tienes los retornos diarios de tres activos financieros diferentes.\n",
    "\n",
    "```python\n",
    "retornos = {\n",
    "    \"Asset A\": [0.05, -0.02, 0.04, -0.01, 0.00],\n",
    "    \"Asset B\": [0.03, 0.03, 0.04, 0.02, 0.05],\n",
    "    \"Asset C\": [-0.03, -0.01, -0.02, 0.00, -0.01]\n",
    "}\n",
    "\n",
    "retornos_df = pd.DataFrame(retornos)\n",
    "```\n",
    "\n",
    "**Taller**: Consulta en internet cómo calcular **Suma de Cuadrados**, **Rango**, **MAD** y **Semi-desviación**.\n",
    "\n",
    "\n",
    "1. **Calcula la varianza y la desviación estándar para cada activo**.\n",
    "2. **Interpreta los resultados**:\n",
    "   - ¿Qué activo es más volátil?\n",
    "   - ¿Cómo podrían estos cálculos influir en la decisión de un inversor respecto a estos activos?\n",
    "\n",
    "### Solución\n",
    "\n",
    "```python\n",
    "varianza_assets = retornos_df.var()\n",
    "desviacion_std_assets = retornos_df.std()\n",
    "\n",
    "print(\"Varianza de cada activo:\\n\", varianza_assets)\n",
    "print(\"Desviación estándar de cada activo:\\n\", desviacion_std_assets)\n",
    "```\n",
    "\n",
    "Este ejercicio permite a los estudiantes aplicar medidas de dispersión para evaluar el riesgo y la volatilidad, elementos cruciales en la toma de decisiones financieras.\n",
    "\n",
    "\n",
    "\n",
    "\n"
   ]
  },
  {
   "cell_type": "code",
   "execution_count": 9,
   "metadata": {
    "colab": {
     "base_uri": "https://localhost:8080/"
    },
    "executionInfo": {
     "elapsed": 6,
     "status": "ok",
     "timestamp": 1712956069014,
     "user": {
      "displayName": "LEONARDO HERNAN TALERO SARMIENTO",
      "userId": "18356281857447711093"
     },
     "user_tz": 300
    },
    "id": "q6M_c6LdIrKH",
    "outputId": "b2b3f04a-fa26-4981-b867-4205ec335a90"
   },
   "outputs": [
    {
     "name": "stdout",
     "output_type": "stream",
     "text": [
      "Varianza de cada activo:\n",
      " Asset A    0.00097\n",
      "Asset B    0.00013\n",
      "Asset C    0.00013\n",
      "dtype: float64\n",
      "Desviación estándar de cada activo:\n",
      " Asset A    0.031145\n",
      "Asset B    0.011402\n",
      "Asset C    0.011402\n",
      "dtype: float64\n"
     ]
    }
   ],
   "source": [
    "retornos = {\n",
    "    \"Asset A\": [0.05, -0.02, 0.04, -0.01, 0.00],\n",
    "    \"Asset B\": [0.03, 0.03, 0.04, 0.02, 0.05],\n",
    "    \"Asset C\": [-0.03, -0.01, -0.02, 0.00, -0.01]\n",
    "}\n",
    "retornos_df = pd.DataFrame(retornos)\n",
    "varianza_assets = retornos_df.var()\n",
    "desviacion_std_assets = retornos_df.std()\n",
    "\n",
    "print(\"Varianza de cada activo:\\n\", varianza_assets)\n",
    "print(\"Desviación estándar de cada activo:\\n\", desviacion_std_assets)"
   ]
  },
  {
   "cell_type": "markdown",
   "metadata": {
    "id": "z-5DBfpNJBUN"
   },
   "source": [
    "- **Activo A**:\n",
    "\n",
    "Tiene la mayor varianza (0.00097) y desviación estándar (0.031145).\n",
    "Esto indica que el precio de este activo ha experimentado las mayores fluctuaciones durante el período analizado. En otras palabras, ha sido el más volátil de los tres activos.\n",
    "\n",
    "- **Activo B y Activo C**:\n",
    "\n",
    "Comparten la misma varianza (0.00013) y desviación estándar (0.011402).\n",
    "Esto indica que sus precios han tenido fluctuaciones similares durante el período analizado. Son los menos volátiles de los tres activos."
   ]
  },
  {
   "cell_type": "markdown",
   "metadata": {
    "id": "OuME0tVi2_wv"
   },
   "source": [
    "# Conceptos Básicos de Probabilidad"
   ]
  },
  {
   "cell_type": "markdown",
   "metadata": {
    "id": "HN2t1C_9JjPq"
   },
   "source": [
    "La probabilidad es una rama de las matemáticas que estudia la frecuencia con la que ocurren ciertos eventos en experimentos aleatorios. Es fundamental en muchas aplicaciones financieras, desde la evaluación de riesgos hasta la modelación de mercados y el análisis de inversiones.\n",
    "\n",
    "## Introducción a la Teoría de la Probabilidad\n",
    "\n",
    "### Definición de Probabilidad\n",
    "\n",
    "La **probabilidad** de un evento se define como una medida que asigna un número entre 0 y 1 a cuán probable es que ocurra dicho evento, donde 1 indica certeza absoluta y 0 la imposibilidad de que ocurra.\n",
    "\n",
    "### Eventos\n",
    "\n",
    "Un **evento** es cualquier conjunto de resultados posibles de un experimento. Por ejemplo, en el lanzamiento de una moneda, los eventos podrían ser obtener \"cara\" o \"cruz\".\n",
    "\n",
    "### Valor Esperado\n",
    "\n",
    "El **valor esperado** (esperanza matemática) de una variable aleatoria es una medida fundamental en estadística que describe el promedio ponderado de todos los valores posibles que puede tomar esta variable, donde cada valor se pondera según su probabilidad de ocurrencia. Matemáticamente, se define como:\n",
    "\n",
    "$$\n",
    "E[X] = \\sum_{i} x_i p_i \\quad \\text{(para variables discretas)}\n",
    "$$\n",
    "$$\n",
    "E[X] = \\int x f(x) dx \\quad \\text{(para variables continuas)}\n",
    "$$\n",
    "\n",
    "donde $ x_i $ son los posibles valores que $ X $ puede asumir, $ p_i $ es la probabilidad de que $ X $ sea igual a $ x_i $, y $ f(x) $ es la función de densidad de probabilidad de $ X $.\n",
    "\n",
    "### Varianza\n",
    "\n",
    "La **varianza** de una variable aleatoria mide la dispersión de sus valores alrededor del valor esperado. Está definida como el valor esperado del cuadrado de la desviación de la variable respecto a su media:\n",
    "\n",
    "$$\n",
    "\\text{Var}(X) = E[(X - E[X])^2]\n",
    "$$\n",
    "\n",
    "La varianza es crucial en finanzas porque cuantifica el riesgo asociado a una inversión o una decisión económica. Una varianza alta implica un mayor riesgo y una mayor incertidumbre sobre el retorno esperado.\n",
    "\n",
    "#### Ejemplos Prácticos\n",
    "\n",
    "Consideremos el análisis del retorno esperado de una cartera de inversiones. Supongamos que una cartera tiene tres activos, cada uno con diferentes probabilidades de alcanzar ciertos retornos:\n",
    "\n",
    "```python\n",
    "import numpy as np\n",
    "\n",
    "# Retornos esperados (en %) y sus probabilidades\n",
    "retornos = np.array([5, 10, 15])  # Posibles retornos en %\n",
    "probabilidades = np.array([0.3, 0.4, 0.3])  # Probabilidades correspondientes\n",
    "\n",
    "# Cálculo del valor esperado del retorno\n",
    "valor_esperado_retorno = np.dot(retornos, probabilidades)\n",
    "print(f\"El retorno esperado de la cartera es: {valor_esperado_retorno}%\")\n",
    "```\n"
   ]
  },
  {
   "cell_type": "code",
   "execution_count": 10,
   "metadata": {
    "colab": {
     "base_uri": "https://localhost:8080/"
    },
    "executionInfo": {
     "elapsed": 14,
     "status": "ok",
     "timestamp": 1712958755982,
     "user": {
      "displayName": "LEONARDO HERNAN TALERO SARMIENTO",
      "userId": "18356281857447711093"
     },
     "user_tz": 300
    },
    "id": "KwH5B1GpTB6c",
    "outputId": "9a6f5506-bfea-4300-dc3c-a5b10f50b55e"
   },
   "outputs": [
    {
     "name": "stdout",
     "output_type": "stream",
     "text": [
      "El retorno esperado de la cartera es: 10.0%\n"
     ]
    }
   ],
   "source": [
    "import numpy as np\n",
    "\n",
    "# Retornos esperados (en %) y sus probabilidades\n",
    "retornos = np.array([5, 10, 15])  # Posibles retornos en %\n",
    "probabilidades = np.array([0.3, 0.4, 0.3])  # Probabilidades correspondientes\n",
    "\n",
    "# Cálculo del valor esperado del retorno\n",
    "valor_esperado_retorno = np.dot(retornos, probabilidades)\n",
    "print(f\"El retorno esperado de la cartera es: {valor_esperado_retorno}%\")"
   ]
  },
  {
   "cell_type": "markdown",
   "metadata": {
    "id": "Rlf3GXVCTCi8"
   },
   "source": [
    "### Probabilidad y Teoría de Conjuntos\n",
    "\n",
    "El valor esperado emplea principios de la teoría de conjuntos y probabilidad, como la inclusión de eventos mutuamente excluyentes e independientes. Por ejemplo, la probabilidad de eventos mutuamente excluyentes se suma para encontrar la probabilidad total, lo que afecta directamente al cálculo del valor esperado cuando se consideran escenarios distintos con sus respectivas probabilidades.\n",
    "\n",
    "#### Ejemplo: Evaluación de la Probabilidad de Incumplimiento de Crédito\n",
    "\n",
    "Las empresas utilizan modelos de probabilidad para estimar el riesgo de incumplimiento de crédito de los prestatarios. Por ejemplo, se puede aplicar un modelo de scoring basado en la historia crediticia, la capacidad de pago, y otros factores financieros para calcular la probabilidad de que un cliente no cumpla con sus obligaciones de pago. Esto ayuda a las instituciones financieras a decidir si otorgan un préstamo, bajo qué condiciones y cómo ajustar la tasa de interés en función del riesgo percibido.\n",
    "\n",
    "```python\n",
    "# Ejemplo simplificado de cálculo de probabilidad de incumplimiento\n",
    "pago_oportuno = 0.95  # Probabilidad de que un cliente pague a tiempo\n",
    "incumplimiento = 1 - pago_oportuno  # Probabilidad de incumplimiento\n",
    "print(f\"Probabilidad de incumplimiento: {incumplimiento:.2%}\")\n",
    "```\n",
    "\n"
   ]
  },
  {
   "cell_type": "code",
   "execution_count": 11,
   "metadata": {
    "colab": {
     "base_uri": "https://localhost:8080/"
    },
    "executionInfo": {
     "elapsed": 13,
     "status": "ok",
     "timestamp": 1712958793127,
     "user": {
      "displayName": "LEONARDO HERNAN TALERO SARMIENTO",
      "userId": "18356281857447711093"
     },
     "user_tz": 300
    },
    "id": "OH0X6j0HTKxE",
    "outputId": "deef5944-f006-4fa1-e6a9-09c9a8de5e38"
   },
   "outputs": [
    {
     "name": "stdout",
     "output_type": "stream",
     "text": [
      "Probabilidad de incumplimiento: 5.00%\n"
     ]
    }
   ],
   "source": [
    "# Ejemplo simplificado de cálculo de probabilidad de incumplimiento\n",
    "pago_oportuno = 0.95  # Probabilidad de que un cliente pague a tiempo\n",
    "incumplimiento = 1 - pago_oportuno  # Probabilidad de incumplimiento\n",
    "print(f\"Probabilidad de incumplimiento: {incumplimiento:.2%}\")"
   ]
  },
  {
   "cell_type": "markdown",
   "metadata": {
    "id": "5HqTN-x0TLPE"
   },
   "source": [
    "#### Ejemplo: Teoría de Conjuntos en la Diversificación de Portafolios\n",
    "\n",
    "La teoría de conjuntos se aplica en la diversificación de portafolios para analizar y gestionar la exposición al riesgo. Por ejemplo, un gestor de fondos puede considerar un conjunto de activos y evaluar las intersecciones de sus rendimientos para determinar la correlación entre ellos. Esto permite al gestor configurar un portafolio que maximice la rentabilidad esperada mientras minimiza el riesgo a través de la diversificación.\n",
    "\n",
    "```python\n",
    "# Simulación simplificada de la diversificación de portafolios\n",
    "activos = {'Acciones', 'Bonos', 'Commodities'}\n",
    "correlaciones = {'Acciones y Bonos': -0.3, 'Acciones y Commodities': 0.5}\n",
    "# Interpretación: Las acciones y bonos tienen correlación negativa, lo que es bueno para la diversificación.\n",
    "```\n"
   ]
  },
  {
   "cell_type": "code",
   "execution_count": 12,
   "metadata": {
    "executionInfo": {
     "elapsed": 4,
     "status": "ok",
     "timestamp": 1712959386470,
     "user": {
      "displayName": "LEONARDO HERNAN TALERO SARMIENTO",
      "userId": "18356281857447711093"
     },
     "user_tz": 300
    },
    "id": "tecvLutBTSky"
   },
   "outputs": [],
   "source": [
    "# Simulación simplificada de la diversificación de portafolios\n",
    "activos = {'Acciones', 'Bonos', 'Commodities'}\n",
    "correlaciones = {'Acciones y Bonos': -0.3, 'Acciones y Commodities': 0.5}\n",
    "# Interpretación: Las acciones y bonos tienen correlación negativa, lo que es bueno para la diversificación."
   ]
  },
  {
   "cell_type": "markdown",
   "metadata": {
    "id": "cssA6mVBTS0N"
   },
   "source": [
    "### Combinatoria\n",
    "\n",
    "En contextos financieros donde los resultados posibles son numerosos y su cálculo es complejo, la combinatoria juega un papel fundamental. Permite calcular el número de formas en que pueden ocurrir diferentes eventos, lo que es esencial para determinar todas las posibles configuraciones que pueden afectar el valor esperado en situaciones de incertidumbre financiera.\n",
    "\n",
    "### Probabilidad Condicional\n",
    "\n",
    "La **probabilidad condicional** es la probabilidad de que ocurra un evento dado que otro evento ya ha ocurrido. Se denota como $ P(A \\mid B) $, que se lee \"la probabilidad de A dado B\".\n",
    "\n",
    "$$\n",
    "P(A \\mid B) = \\frac{P(A \\cap B)}{P(B)}\n",
    "$$\n",
    "\n",
    "donde $ P(B) \\neq 0 $.\n",
    "\n",
    "## Simulaciones de Probabilidad en Python\n",
    "\n",
    "Python, a través de su biblioteca `random`, proporciona herramientas útiles para simular eventos aleatorios, lo que es clave en las aplicaciones financieras para modelar incertidumbres y evaluar riesgos.\n",
    "\n",
    "### Ejemplo de Simulación: Fluctuaciones de Precios de Acciones\n",
    "\n",
    "Supongamos que queremos simular el cambio diario del precio de una acción que sigue una distribución normal.\n",
    "\n",
    "```python\n",
    "import numpy as np\n",
    "\n",
    "# Parámetros de la simulación\n",
    "media = 0.001  # Media de cambio diario esperado\n",
    "desviacion_std = 0.02  # Desviación estándar de los cambios diarios\n",
    "\n",
    "# Generar cambio aleatorio para un día\n",
    "cambio_diario = np.random.normal(media, desviacion_std)\n",
    "print(f\"Cambio diario simulado: {cambio_diario}\")\n",
    "```\n",
    "\n"
   ]
  },
  {
   "cell_type": "code",
   "execution_count": 13,
   "metadata": {
    "colab": {
     "base_uri": "https://localhost:8080/"
    },
    "executionInfo": {
     "elapsed": 218,
     "status": "ok",
     "timestamp": 1712958872070,
     "user": {
      "displayName": "LEONARDO HERNAN TALERO SARMIENTO",
      "userId": "18356281857447711093"
     },
     "user_tz": 300
    },
    "id": "9LqqoS1vTfRF",
    "outputId": "71577c3e-dad8-42b3-aa43-e6417c10180d"
   },
   "outputs": [
    {
     "name": "stdout",
     "output_type": "stream",
     "text": [
      "Cambio diario simulado: -0.00466493314176785\n"
     ]
    }
   ],
   "source": [
    "import numpy as np\n",
    "\n",
    "# Parámetros de la simulación\n",
    "media = 0.001  # Media de cambio diario esperado\n",
    "desviacion_std = 0.02  # Desviación estándar de los cambios diarios\n",
    "\n",
    "# Generar cambio aleatorio para un día\n",
    "cambio_diario = np.random.normal(media, desviacion_std)\n",
    "print(f\"Cambio diario simulado: {cambio_diario}\")"
   ]
  },
  {
   "cell_type": "markdown",
   "metadata": {
    "id": "vGEgbZLfTetA"
   },
   "source": [
    "## Ejercicios Prácticos\n",
    "\n",
    "### Ejercicio de Cálculo de Probabilidad\n",
    "\n",
    "Supongamos que quieres calcular la probabilidad de que el precio de una acción, que sigue una distribución normal, caiga por debajo de un umbral específico en un día determinado.\n",
    "\n",
    "1. **Definir parámetros**: Supongamos que el precio de la acción normalmente cambia con una media de 0.001 y una desviación estándar de 0.02.\n",
    "2. **Calcular la probabilidad**: Determine la probabilidad de que el precio caiga más de 0.02 (2%) en un solo día.\n",
    "\n",
    "```python\n",
    "import numpy as np\n",
    "import scipy.stats as stats\n",
    "\n",
    "# Parámetros de la distribución\n",
    "media = 0.001  # Media de cambio diario esperado\n",
    "desviacion_std = 0.02  # Desviación estándar de los cambios diarios\n",
    "\n",
    "# Umbral para calcular la probabilidad de caída mayor a 2%\n",
    "umbral = media - 0.02\n",
    "\n",
    "# Usando scipy.stats para calcular la CDF\n",
    "probabilidad_caída = stats.norm(media, desviacion_std).cdf(umbral)\n",
    "\n",
    "print(f\"Probabilidad de que el precio caiga más de 2%: {probabilidad_caída:.2%}\")\n",
    "\n",
    "```"
   ]
  },
  {
   "cell_type": "code",
   "execution_count": 14,
   "metadata": {
    "colab": {
     "base_uri": "https://localhost:8080/"
    },
    "executionInfo": {
     "elapsed": 242,
     "status": "ok",
     "timestamp": 1712959013425,
     "user": {
      "displayName": "LEONARDO HERNAN TALERO SARMIENTO",
      "userId": "18356281857447711093"
     },
     "user_tz": 300
    },
    "id": "vHFv1s7STja6",
    "outputId": "359e0f88-2ac3-4a38-972d-45332926378e"
   },
   "outputs": [
    {
     "name": "stdout",
     "output_type": "stream",
     "text": [
      "Probabilidad de que el precio caiga más de 2%: 15.87%\n"
     ]
    }
   ],
   "source": [
    "import numpy as np\n",
    "import scipy.stats as stats\n",
    "\n",
    "# Parámetros de la distribución\n",
    "media = 0.001  # Media de cambio diario esperado\n",
    "desviacion_std = 0.02  # Desviación estándar de los cambios diarios\n",
    "\n",
    "# Umbral para calcular la probabilidad de caída mayor a 2%\n",
    "umbral = media - 0.02\n",
    "\n",
    "# Usando scipy.stats para calcular la CDF\n",
    "probabilidad_caída = stats.norm(media, desviacion_std).cdf(umbral)\n",
    "\n",
    "print(f\"Probabilidad de que el precio caiga más de 2%: {probabilidad_caída:.2%}\")\n"
   ]
  },
  {
   "cell_type": "code",
   "execution_count": 15,
   "metadata": {
    "colab": {
     "base_uri": "https://localhost:8080/",
     "height": 472
    },
    "executionInfo": {
     "elapsed": 1930,
     "status": "ok",
     "timestamp": 1713015900763,
     "user": {
      "displayName": "LEONARDO HERNAN TALERO SARMIENTO",
      "userId": "18356281857447711093"
     },
     "user_tz": 300
    },
    "id": "C3V6UKhRtB-j",
    "outputId": "7ba16660-82ff-45e1-a7e9-2191cf9be1b0"
   },
   "outputs": [
    {
     "data": {
      "image/png": "[encoded data removed]",
      "text/plain": [
       "<Figure size 640x480 with 1 Axes>"
      ]
     },
     "metadata": {},
     "output_type": "display_data"
    }
   ],
   "source": [
    "import numpy as np\n",
    "import scipy.stats as stats\n",
    "import matplotlib.pyplot as plt\n",
    "\n",
    "# Parámetros de la distribución\n",
    "media = 0.001  # Media de cambio diario esperado\n",
    "desviacion_std = 0.02  # Desviación estándar de los cambios diarios\n",
    "\n",
    "# Umbral para calcular la probabilidad de caída mayor a 2%\n",
    "umbral = media - 0.02\n",
    "\n",
    "# Número de puntos para la curva\n",
    "num_puntos = 1000\n",
    "\n",
    "# Generación de valores de x\n",
    "x = np.linspace(media - 3 * desviacion_std, media + 3 * desviacion_std, num_puntos)\n",
    "\n",
    "# Cálculo de la densidad de probabilidad (PDF)\n",
    "y = stats.norm.pdf(x, media, desviacion_std)\n",
    "\n",
    "# Cálculo de la probabilidad de caída\n",
    "probabilidad_caída = stats.norm(media, desviacion_std).cdf(umbral)\n",
    "\n",
    "# Gráfico de la PDF\n",
    "plt.plot(x, y)\n",
    "\n",
    "# Adición de línea vertical en el umbral\n",
    "plt.axvline(x=umbral, color='r', linestyle='dashed', linewidth=1, label=f\"Caída > 2% ({probabilidad_caída:.2%})\")\n",
    "\n",
    "# Adición de etiquetas y título\n",
    "plt.xlabel(\"Cambio diario\")\n",
    "plt.ylabel(\"Densidad de probabilidad\")\n",
    "plt.title(\"Distribución normal del cambio diario del precio\")\n",
    "\n",
    "# Leyenda\n",
    "plt.legend()\n",
    "\n",
    "# Mostrar el gráfico\n",
    "plt.grid(True)\n",
    "plt.show()\n"
   ]
  },
  {
   "cell_type": "markdown",
   "metadata": {
    "id": "yJZRJFYGO6ef"
   },
   "source": [
    "## Variables Aleatorias y Teorema del Límite Central\n",
    "\n",
    "Este documento explora los conceptos fundamentales de las variables aleatorias y el Teorema del Límite Central, ilustrando su aplicación práctica en el ámbito de las finanzas mediante ejemplos en Python.\n",
    "\n",
    "### Variables Aleatorias\n",
    "\n",
    "Una **variable aleatoria** es una función que asigna un número real a cada resultado de un experimento aleatorio. Las variables aleatorias se clasifican en dos categorías principales: discretas y continuas.\n",
    "\n",
    "- **Variables Discretas**: Toman valores específicos y contables. Un ejemplo clásico es el lanzamiento de un dado, donde los posibles resultados son los números enteros del 1 al 6.\n",
    "\n",
    "La función de densidad de probabilidad, en el contexto de variables discretas, se denomina más adecuadamente función de masa de probabilidad (FMP). La FMP, a diferencia de la función de densidad de probabilidad para variables continuas, asigna probabilidades a puntos específicos en el espacio de muestreo de una variable aleatoria discreta. Para una variable aleatoria discreta $ X $, la función de masa de probabilidad $ p(x) $ se define como la probabilidad de que $ X $ tome exactamente el valor $ x $. Esto se expresa matemáticamente como:\n",
    "\n",
    "$$\n",
    "p(x) = P(X = x)\n",
    "$$\n",
    "\n",
    "donde $ x $ son los valores que $ X $ puede tomar.\n",
    "\n",
    "#### Propiedades de la FMP\n",
    "\n",
    "1. **No negatividad**: $ p(x) \\geq 0 $ para todo $ x $.\n",
    "2. **Suma a uno**: La suma de todas las probabilidades $ p(x) $ para todos los valores posibles de $ x $ es 1, es decir:\n",
    "   $$\n",
    "   \\sum_{x} p(x) = 1\n",
    "   $$\n",
    "3. **Probabilidad de eventos**: La probabilidad de cualquier evento $ A $ puede ser calculada sumando las probabilidades de los valores de $ x $ que satisfacen el evento $ A $, es decir:\n",
    "   $$\n",
    "   P(X \\in A) = \\sum_{x \\in A} p(x)\n",
    "   $$\n",
    "\n",
    "\n",
    "\n",
    "- **Variables Continuas**: Pueden tomar cualquier valor dentro de un intervalo o rango. Un ejemplo es el tiempo necesario para que un banco apruebe un préstamo, que podría ser cualquier número real entre ciertos límites. La función de densidad es:\n",
    "\n",
    "$$\n",
    "  f(x) = P(X \\in [a, b]) = \\int_a^b f(x) \\, dx\n",
    "  $$\n",
    "\n",
    "#### Ejemplos en Python:\n",
    "\n",
    "```python\n",
    "import numpy as np\n",
    "\n",
    "# Variable aleatoria discreta: Lanzamiento de un dado\n",
    "dado = np.random.choice([1, 2, 3, 4, 5, 6], size=100)\n",
    "print(\"Diez lanzamientos del dado:\", dado[:10])\n",
    "\n",
    "# Variable aleatoria continua: Tiempos de espera\n",
    "tiempos_espera = np.random.exponential(scale=10, size=100)  # Escala = tiempo medio de espera de 10 minutos\n",
    "print(\"Diez tiempos de espera:\", tiempos_espera[:10])\n",
    "```\n",
    "\n",
    "### Distribuciones de Probabilidad\n",
    "\n",
    "Las **distribuciones de probabilidad** describen cómo se distribuyen los valores de una variable aleatoria. Cada tipo de variable aleatoria tiene asociadas distintas distribuciones de probabilidad.\n",
    "\n",
    "De manera general una distribución de probabilidad se indica de la siguiente manera:\n",
    "  $$\n",
    "  P(X = x_i) = p_i\n",
    "  $$\n",
    "\n",
    "- **Distribuciones para Variables Discretas**:\n",
    "  - *Distribución Binomial*: Describe el número de éxitos en una serie de ensayos independientes.\n",
    "\n",
    "   $$\n",
    "  P(X = k) = \\binom{n}{k} p^k (1-p)^{n-k}\n",
    "  $$\n",
    "  \n",
    "- **Distribuciones para Variables Continuas**:\n",
    "  - *Distribución Normal*: Usada extensamente en estadística debido a sus propiedades y la centralidad que proporciona el Teorema del Límite Central.\n",
    "$$\n",
    "  f(x) = \\frac{1}{\\sigma\\sqrt{2\\pi}} e^{-\\frac{1}{2}\\left(\\frac{x-\\mu}{\\sigma}\\right)^2}\n",
    "  $$\n",
    "\n",
    "#### Ejemplos en Python:\n",
    "\n",
    "```python\n",
    "# Distribución binomial: Probabilidad de 2 éxitos en 10 intentos con p=0.5\n",
    "binomial = np.random.binomial(10, 0.5, 100)\n",
    "print(\"Diez resultados de la distribución binomial:\", binomial[:10])\n",
    "\n",
    "# Distribución normal: Media = 0, desviación estándar = 1\n",
    "normal = np.random.normal(0, 1, 100)\n",
    "print(\"Diez resultados de la distribución normal:\", normal[:10])\n",
    "```\n"
   ]
  },
  {
   "cell_type": "code",
   "execution_count": 16,
   "metadata": {
    "colab": {
     "base_uri": "https://localhost:8080/"
    },
    "executionInfo": {
     "elapsed": 7,
     "status": "ok",
     "timestamp": 1712959424217,
     "user": {
      "displayName": "LEONARDO HERNAN TALERO SARMIENTO",
      "userId": "18356281857447711093"
     },
     "user_tz": 300
    },
    "id": "fJdqDeGUSt_S",
    "outputId": "f7e2e12e-74ab-40aa-ef8e-d4f8ef6f049e"
   },
   "outputs": [
    {
     "name": "stdout",
     "output_type": "stream",
     "text": [
      "Diez resultados de la distribución binomial: [7 6 6 5 6 3 5 5 4 5]\n",
      "Diez resultados de la distribución normal: [-0.30630298 -0.53974984  0.09863799  0.19966026  1.2916218   1.16963157\n",
      " -2.1696261   0.20349588  0.46059479  2.03177036]\n"
     ]
    }
   ],
   "source": [
    "# Distribución binomial: Probabilidad de 2 éxitos en 10 intentos con p=0.5\n",
    "binomial = np.random.binomial(10, 0.5, 100)\n",
    "print(\"Diez resultados de la distribución binomial:\", binomial[:10])\n",
    "\n",
    "# Distribución normal: Media = 0, desviación estándar = 1\n",
    "normal = np.random.normal(0, 1, 100)\n",
    "print(\"Diez resultados de la distribución normal:\", normal[:10])"
   ]
  },
  {
   "cell_type": "markdown",
   "metadata": {
    "id": "XmbJ2qz-VkpY"
   },
   "source": [
    "\n",
    "### Teorema del Límite Central\n",
    "\n",
    "El **Teorema del Límite Central** es uno de los resultados más poderosos en estadística, estableciendo que, bajo ciertas condiciones, la suma de una gran cantidad de variables aleatorias independientes tiende a distribuirse normalmente, independientemente de la forma de la distribución original de las variables. Su expresión matemática es:\n",
    "\n",
    "\n",
    "  $$\n",
    "  \\frac{1}{n}\\sum_{i=1}^{n}X_i \\xrightarrow{d} N(\\mu, \\frac{\\sigma^2}{n})\n",
    "  $$\n",
    "\n",
    "#### Importancia:\n",
    "\n",
    "Este teorema justifica el uso generalizado de la distribución normal en muchos campos, incluidas las finanzas, porque permite modelar fenómenos complejos como si fueran normales, facilitando su análisis y comprensión.\n",
    "\n",
    "####  Aplicaciones en Finanzas\n",
    "\n",
    "- **Modelado de Precios de Acciones**: La distribución normal se utiliza para modelar los retornos diarios de las acciones, lo cual es fundamental en la teoría de portafolios moderna.\n",
    "- **Evaluación de Riesgos**: El teorema ayuda a calcular probabilidades de eventos extremos, como grandes pérdidas financieras.\n",
    "\n",
    "#### Simulaciones en Python\n",
    "\n",
    "El siguiente código simula el Teorema del Límite Central utilizando sumas de variables aleatorias uniformes para demostrar su convergencia hacia una distribución normal.\n",
    "\n",
    "```python\n",
    "import matplotlib.pyplot as plt\n",
    "\n",
    "# Suma de variables aleatorias uniformes\n",
    "sumas = [np.sum(np.random.uniform(0, 1, 50)) for _ in range(1000)]\n",
    "\n",
    "# Visualización\n",
    "plt.hist(sumas, bins=30, alpha=0.75, color='blue')\n",
    "plt.title('Distribución de la suma de 50 variables aleatorias uniformes')\n",
    "plt.show()\n",
    "```\n"
   ]
  },
  {
   "cell_type": "code",
   "execution_count": 17,
   "metadata": {
    "colab": {
     "base_uri": "https://localhost:8080/",
     "height": 452
    },
    "executionInfo": {
     "elapsed": 675,
     "status": "ok",
     "timestamp": 1712959433813,
     "user": {
      "displayName": "LEONARDO HERNAN TALERO SARMIENTO",
      "userId": "18356281857447711093"
     },
     "user_tz": 300
    },
    "id": "9wKoYdc4VqUg",
    "outputId": "650e15b4-63c9-4296-c561-07f9452ccb79"
   },
   "outputs": [
    {
     "data": {
      "image/png": "[encoded data removed]",
      "text/plain": [
       "<Figure size 640x480 with 1 Axes>"
      ]
     },
     "metadata": {},
     "output_type": "display_data"
    }
   ],
   "source": [
    "import matplotlib.pyplot as plt\n",
    "\n",
    "# Suma de variables aleatorias uniformes\n",
    "sumas = [np.sum(np.random.uniform(0, 1, 50)) for _ in range(1000)]\n",
    "\n",
    "# Visualización\n",
    "plt.hist(sumas, bins=30, alpha=0.75, color='blue')\n",
    "plt.title('Distribución de la suma de 50 variables aleatorias uniformes')\n",
    "plt.show()"
   ]
  }
 ],
 "metadata": {
  "colab": {
   "authorship_tag": "ABX9TyNo2JWMN3nzO8XbtgpTlGjz",
   "provenance": [
    {
     "file_id": "1SZa3c_iroF8ge_r4mOiavLi4WPYjetAf",
     "timestamp": 1712951072578
    },
    {
     "file_id": "1hWqmAz0yXog6c-1DpulII38qk3Nrpepg",
     "timestamp": 1712349741951
    }
   ],
   "toc_visible": true
  },
  "kernelspec": {
   "display_name": "Python 3",
   "name": "python3"
  },
  "language_info": {
   "codemirror_mode": {
    "name": "ipython",
    "version": 3
   },
   "file_extension": ".py",
   "mimetype": "text/x-python",
   "name": "python",
   "nbconvert_exporter": "python",
   "pygments_lexer": "ipython3",
   "version": "3.10.13"
  }
 },
 "nbformat": 4,
 "nbformat_minor": 0
}